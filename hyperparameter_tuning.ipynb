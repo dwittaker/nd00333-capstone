{
 "cells": [
  {
   "cell_type": "markdown",
   "metadata": {},
   "source": [
    "# Hyperparameter Tuning using HyperDrive\n",
    "\n",
    "TODO: Import Dependencies. In the cell below, import all the dependencies that you will need to complete the project."
   ]
  },
  {
   "cell_type": "code",
   "execution_count": null,
   "metadata": {
    "gather": {
     "logged": 1598531914256
    }
   },
   "outputs": [],
   "source": [
    "import logging\n",
    "import os\n",
    "import csv\n",
    "\n",
    "from matplotlib import pyplot as plt\n",
    "import numpy as np\n",
    "import pandas as pd\n",
    "from sklearn import datasets\n",
    "import pkg_resources\n",
    "\n",
    "import azureml.core\n",
    "from azureml.core.experiment import Experiment\n",
    "from azureml.core.workspace import Workspace\n",
    "from azureml.train.automl import AutoMLConfig\n",
    "from azureml.core.dataset import Dataset\n",
    "\n",
    "from azureml.pipeline.steps import AutoMLStep\n",
    "\n",
    "# Check core SDK version number\n",
    "print(\"SDK version:\", azureml.core.VERSION)\n",
    "\n",
    "from azureml.core.compute import AmlCompute\n",
    "from azureml.core.compute import ComputeTarget\n",
    "from azureml.core.compute_target import ComputeTargetException\n",
    "\n",
    "\n",
    "from azureml.widgets import RunDetails\n",
    "from azureml.train.sklearn import SKLearn\n",
    "from azureml.train.hyperdrive.run import PrimaryMetricGoal\n",
    "from azureml.train.hyperdrive.policy import BanditPolicy\n",
    "from azureml.train.hyperdrive.sampling import RandomParameterSampling, BayesianParameterSampling\n",
    "from azureml.train.hyperdrive.runconfig import HyperDriveConfig\n",
    "from azureml.train.hyperdrive.parameter_expressions import uniform, choice\n",
    "import os\n",
    "from azureml.core.environment import Environment\n",
    "\n",
    "from azureml.core.model import InferenceConfig, Model\n",
    "from azureml.core.webservice import AciWebservice, Webservice\n",
    "\n",
    "from azureml.core.conda_dependencies import CondaDependencies\n",
    "from azureml.core.model import Model, InferenceConfig\n"
   ]
  },
  {
   "cell_type": "markdown",
   "metadata": {},
   "source": [
    "## Dataset\n",
    "\n",
    "TODO: Get data. In the cell below, write code to access the data you will be using in this project. Remember that the dataset needs to be external."
   ]
  },
  {
   "cell_type": "code",
   "execution_count": null,
   "metadata": {
    "gather": {
     "logged": 1598531917374
    },
    "jupyter": {
     "outputs_hidden": false,
     "source_hidden": false
    },
    "nteract": {
     "transient": {
      "deleting": false
     }
    }
   },
   "outputs": [],
   "source": [
    "!pip install opendatasets\n",
    "import opendatasets as od\n",
    "import time\n",
    "import shutil\n",
    "\n",
    "def download_data(url, dsname, downloadpath, file):\n",
    "    if not os.path.exists(downloadpath):\n",
    "        os.makedirs(downloadpath)\n",
    "\n",
    "    od.download(url)\n",
    "    data_downloadpath = os.path.join(dsname, file)\n",
    "    data_finalpath = os.path.join(downloadpath, file)\n",
    "    \n",
    "    os.rename(data_downloadpath, data_finalpath)\n",
    "    while not os.path.exists(data_finalpath):\n",
    "        sleep(1)\n",
    "    shutil.rmtree(f\"./{dsname}\")\n",
    "    \n",
    "    return data_finalpath\n",
    "\n",
    "\n",
    "ws = Workspace.from_config()\n",
    "dataurl = 'https://www.kaggle.com/rupeshraundal/marketcheck-automotive-data-us-canada/download'\n",
    "kaggledsname = 'marketcheck-automotive-data-us-canada'\n",
    "filenm = 'ca-dealers-used.csv'\n",
    "downloadpath = 'Data'\n",
    "dskey = 'UsedCarPrices'\n",
    "dsdesc = 'Used Car Price Training Data'\n",
    "found = False\n",
    "\n",
    "\n",
    "if dskey in ws.datasets.keys(): \n",
    "    print(f\"Retrieving registered dataset with key {dskey}\")\n",
    "    found = True\n",
    "    dataset = ws.datasets[dskey] \n",
    "\n",
    "if not found:\n",
    "    print(\"Downloading Canadian used car prices dataset from Kaggle\")\n",
    "    datapath = download_data(dataurl, downloadpath, filenm)\n",
    "\n",
    "    # get the datastore to upload prepared data\n",
    "    datastore = ws.get_default_datastore()\n",
    "    filepath = os.path.join(downloadpath, filenm)\n",
    "    # upload the local file from src_dir to the target_path in datastore\n",
    "    datastore.upload(src_dir=datapath, target_path=filepath)\n",
    "    dataset = Dataset.Tabular.from_delimited_files(path=[(datastore, (os.join(filepath, filenm)))], separator=',', header=True, encoding='utf8')\n",
    "    \n",
    "    print(\"Registering dataset\")\n",
    "    dataset = dataset.register(workspace=workspace,\n",
    "                                 name=dskey,\n",
    "                                 description=dsdesc)\n",
    "    # dataset = Dataset.Tabular.from_delimited_files(os.join(datapath, filenm), separator=',', header=True, encoding='utf8')\n",
    "    # https://docs.microsoft.com/en-us/python/api/azureml-core/azureml.data.tabulardataset?view=azure-ml-py\n",
    "    # https://docs.microsoft.com/en-us/azure/machine-learning/how-to-create-register-datasets#explore-data\n",
    "    # https://docs.microsoft.com/en-us/azure/machine-learning/how-to-train-with-datasets\n",
    "\n",
    "\n",
    "print(f\"Dataset ID: {dataset.id}\")\n",
    "print(f\"Dataset name: {dataset.name}\")\n",
    "print(f\"Dataset description: {dataset.description}\")\n"
   ]
  },
  {
   "cell_type": "code",
   "execution_count": null,
   "metadata": {},
   "outputs": [],
   "source": [
    "ws = Workspace.from_config()\n",
    "experiment_name = 'PCAP_Exp_CarPrices_AutoML'\n",
    "experiment=Experiment(ws, experiment_name)\n",
    "\n",
    "print(\"Configuring compute cluster\")\n",
    "amlcompute_cluster_name = \"PCAP-Clus-DS12v2\"\n",
    "try:\n",
    "    compute_target = ComputeTarget(workspace=ws, name=amlcompute_cluster_name)\n",
    "    print('Found existing cluster, use it.')\n",
    "except ComputeTargetException:\n",
    "    compute_config = AmlCompute.provisioning_configuration(vm_size='STANDARD_DS12_V2',# for GPU, use \"STANDARD_NC6\"\n",
    "                                                           #vm_priority = 'lowpriority', # optional\n",
    "                                                           max_nodes=6)\n",
    "    compute_target = ComputeTarget.create(ws, amlcompute_cluster_name, compute_config)\n",
    "\n",
    "compute_target.wait_for_completion(show_output=True, min_node_count = 1, timeout_in_minutes = 2)\n",
    "\n",
    "\n"
   ]
  },
  {
   "cell_type": "markdown",
   "metadata": {
    "collapsed": true,
    "gather": {
     "logged": 1598531923519
    },
    "jupyter": {
     "outputs_hidden": false,
     "source_hidden": false
    },
    "nteract": {
     "transient": {
      "deleting": false
     }
    }
   },
   "source": [
    "## Hyperdrive Configuration\n",
    "\n",
    "TODO: Explain the model you are using and the reason for chosing the different hyperparameters, termination policy and config settings."
   ]
  },
  {
   "cell_type": "code",
   "execution_count": null,
   "metadata": {
    "gather": {
     "logged": 1598544893076
    },
    "jupyter": {
     "outputs_hidden": false,
     "source_hidden": false
    },
    "nteract": {
     "transient": {
      "deleting": false
     }
    }
   },
   "outputs": [],
   "source": [
    "# TODO: Create an early termination policy. This is not required if you are using Bayesian sampling.\n",
    "# This will not be used since bayesianparametersampling will be used\n",
    "# early_termination_policy = BanditPolicy(slack_factor = 0.1, evaluation_interval=1, delay_evaluation=5)\n",
    "\n",
    "#TODO: Create the different params that you will be using during training\n",
    "param_sampling = BayesianParameterSampling({\n",
    "        \"n_estimators\": uniform(10, 100),\n",
    "        'max_Depth': choice(10, 2, None ),\n",
    "        'criterion': choice(\"mse\",\"squared_error\"),\n",
    "        'max_Features': choice('sqrt','log2',8,None) \n",
    "        }\n",
    ")\n",
    "\n",
    "#TODO: Create your estimator and hyperdrive config\n",
    "# estimator = <your estimator here>\n",
    "\n",
    "# https://docs.microsoft.com/en-us/azure/machine-learning/how-to-set-up-training-targets?view=azure-ml-py\n",
    "# https://docs.microsoft.com/en-us/azure/machine-learning/how-to-use-environments\n",
    "# https://docs.microsoft.com/en-us/azure/machine-learning/resource-curated-environments\n",
    "# https://docs.microsoft.com/en-us/azure/machine-learning/how-to-train-scikit-learn?view=azure-ml-py\n",
    "# AzureML-sklearn-0.24-ubuntu18.04-py37-cuda11-gpu\n",
    "# AzureML-sklearn-0.24-ubuntu18.04-py37-cpu\n",
    "# myenv = Environment(workspace=ws, name=\"AzureML-Tutorial\") \n",
    "myenv = Environment(workspace=ws, name=\"AzureML-sklearn-0.24-ubuntu18.04-py37-cpu\") \n",
    "dir_output = './outputs'\n",
    "src = ScriptRunConfig(source_directory='.',\n",
    "                      script='train.py',\n",
    "                      arguments=['--output_dir', dir_output, '--input_data', dskey],#dataset.as_named_input('UsedAutoPrices')],\n",
    "                      compute_target=amlcomp,\n",
    "                      environment=myenv)\n",
    "# https://docs.microsoft.com/en-us/python/api/azureml-train-core/azureml.train.hyperdrive.hyperdriveconfig?view=azure-ml-py\n",
    "# https://github.com/Azure/MachineLearningNotebooks/blob/master/how-to-use-azureml/machine-learning-pipelines/intro-to-pipelines/aml-pipelines-parameter-tuning-with-hyperdrive.ipynb\n",
    "# https://docs.microsoft.com/en-us/azure/machine-learning/how-to-tune-hyperparameters\n",
    "hyperdrive_run_config = HyperDriveConfig(run_config=src,\n",
    "                         hyperparameter_sampling=param_sampling,\n",
    "                         # policy=bandpolicy,\n",
    "                         primary_metric_name=\"r2_score\",\n",
    "                         primary_metric_goal=PrimaryMetricGoal.MAXIMIZE,\n",
    "                         max_total_runs=100, \n",
    "                         max_concurrent_runs=5)"
   ]
  },
  {
   "cell_type": "code",
   "execution_count": null,
   "metadata": {
    "gather": {
     "logged": 1598544897941
    },
    "jupyter": {
     "outputs_hidden": false,
     "source_hidden": false
    },
    "nteract": {
     "transient": {
      "deleting": false
     }
    }
   },
   "outputs": [],
   "source": [
    "#TODO: Submit your experiment\n",
    "\n",
    "hdrive_run = exp.submit(hd_config, show_output = True)\n"
   ]
  },
  {
   "cell_type": "markdown",
   "metadata": {
    "collapsed": true,
    "gather": {
     "logged": 1598544898497
    },
    "jupyter": {
     "outputs_hidden": false,
     "source_hidden": false
    },
    "nteract": {
     "transient": {
      "deleting": false
     }
    }
   },
   "source": [
    "## Run Details\n",
    "\n",
    "OPTIONAL: Write about the different models trained and their performance. Why do you think some models did better than others?\n",
    "\n",
    "TODO: In the cell below, use the `RunDetails` widget to show the different experiments."
   ]
  },
  {
   "cell_type": "code",
   "execution_count": null,
   "metadata": {
    "gather": {
     "logged": 1598546648408
    },
    "jupyter": {
     "outputs_hidden": false,
     "source_hidden": false
    },
    "nteract": {
     "transient": {
      "deleting": false
     }
    }
   },
   "outputs": [],
   "source": [
    "RunDetails(hdrive_run).show()"
   ]
  },
  {
   "cell_type": "markdown",
   "metadata": {},
   "source": [
    "## Best Model\n",
    "\n",
    "TODO: In the cell below, get the best model from the hyperdrive experiments and display all the properties of the model."
   ]
  },
  {
   "cell_type": "code",
   "execution_count": null,
   "metadata": {
    "gather": {
     "logged": 1598546650307
    },
    "jupyter": {
     "outputs_hidden": false,
     "source_hidden": false
    },
    "nteract": {
     "transient": {
      "deleting": false
     }
    }
   },
   "outputs": [],
   "source": [
    "import joblib\n",
    "# Get your best run and save the model from that run.\n",
    "\n",
    "### YOUR CODE HERE ###\n",
    "hdrive_run.wait_for_completion(show_output=True)\n",
    "best_run = hdrive_run.get_best_run_by_primary_metric()\n",
    "best_run_metrics = best_run.get_metrics()\n",
    "parameter_values = best_run.get_details()['runDefinition']['arguments']\n",
    "\n",
    "print('Best Run Id: ', best_run.id)\n",
    "print('\\n R2 Score:', best_run_metrics['r2_score'])\n",
    "print('\\n Number of estimators:',parameter_values[0])\n",
    "print('\\n Max Depth:',parameter_values[1])\n",
    "print('\\n Criterion:',parameter_values[2])\n",
    "print('\\n Max Features:',parameter_values[3])\n",
    "print('\\n FileNames:', best_run.get_file_names())\n",
    "\n",
    "foldername=\"BestHdriveModel\"\n",
    "#joblib.dump(value=best_run, filename=filename)\n",
    "\n"
   ]
  },
  {
   "cell_type": "code",
   "execution_count": null,
   "metadata": {
    "gather": {
     "logged": 1598546657829
    },
    "jupyter": {
     "outputs_hidden": false,
     "source_hidden": false
    },
    "nteract": {
     "transient": {
      "deleting": false
     }
    }
   },
   "outputs": [],
   "source": [
    "#TODO: Save the best model\n",
    "#This next line from here may be needed to actually store the model, but try without first\n",
    "#https://github.com/Azure/MachineLearningNotebooks/blob/master/how-to-use-azureml/ml-frameworks/keras/train-hyperparameter-tune-deploy-with-keras/train-hyperparameter-tune-deploy-with-keras.ipynb\n",
    "#model = best_run.register_model(model_name='keras-mlp-mnist', model_path='outputs/model')\n",
    "os.makedirs(f'./{foldername}', exist_ok=True)\n",
    "for f in best_run.get_file_names():\n",
    "    if f.startswith(f'{dir_output}/model'):\n",
    "        output_file_path = os.path.join(f'./model/{foldername}', f.split('/')[-1])\n",
    "        print('Downloading from {} to {} ...'.format(f, output_file_path))\n",
    "        run.download_file(name=f, output_file_path=output_file_path)\n",
    "        "
   ]
  },
  {
   "cell_type": "markdown",
   "metadata": {
    "collapsed": true,
    "jupyter": {
     "outputs_hidden": false,
     "source_hidden": false
    },
    "nteract": {
     "transient": {
      "deleting": false
     }
    }
   },
   "source": [
    "## Model Deployment\n",
    "\n",
    "Remember you have to deploy only one of the two models you trained.. Perform the steps in the rest of this notebook only if you wish to deploy this model.\n",
    "\n",
    "TODO: In the cell below, register the model, create an inference config and deploy the model as a web service."
   ]
  },
  {
   "cell_type": "code",
   "execution_count": null,
   "metadata": {},
   "outputs": [],
   "source": [
    "model = best_run.register_model(model_name='RFHD-AutoPrices', model_path=f'{filename}/model/RF-AutoPrices_hdrive_model.joblib')\n",
    "\n",
    "# Disabled since the rubric implies a specification 'file' is required, suggesting a custom yaml file\n",
    "# myenv_inference = Environment(workspace=ws, name=\"AzureML-sklearn-0.24.1-ubuntu18.04-py37-cpu-inference\") \n",
    "mysklearn_env = Environment.from_conda_specification(name='sklearn-env', file_path='conda_dependencies.yml')\n",
    "\n",
    "\n",
    "# Combine scoring script & environment in Inference configuration\n",
    "dummy_inference_config = InferenceConfig(entry_script=\"score_hdrive.py\", environment=mysklearn_env)\n",
    "\n",
    "# Set deployment configuration\n",
    "deployment_config = AciWebservice.deploy_configuration(cpu_cores = 1, memory_gb = 1, auth_enabled=True)\n",
    "\n",
    "ws_name = \"SVC_AutoPrices\"\n",
    "service = Model.deploy(\n",
    "    ws,\n",
    "    ws_name,\n",
    "    [model],\n",
    "    inference_config = dummy_inference_config,\n",
    "    deployment_config = deployment_config,\n",
    "    overwrite=True,\n",
    ")\n",
    "service.wait_for_deployment(show_output=True)\n",
    "print(service.state)\n",
    "print(service.scoring_uri)\n",
    "print(service.swagger_uri)\n",
    "primary, secondary = service.get_keys()\n",
    "print(primary)\n",
    "#Enable app insights\n",
    "service.update(enable_app_insights=True)"
   ]
  },
  {
   "cell_type": "markdown",
   "metadata": {},
   "source": [
    "TODO: In the cell below, send a request to the web service you deployed to test it."
   ]
  },
  {
   "cell_type": "code",
   "execution_count": null,
   "metadata": {},
   "outputs": [],
   "source": [
    "\n",
    "service = Webservice(workspace=ws, name=ws_name)\n",
    "\n",
    "\n",
    "import requests\n",
    "# URL for the web service\n",
    "scoring_uri = service.scoring_uri\n",
    "# If the service is authenticated, set the key or token\n",
    "key = primary\n",
    "\n",
    "# Two sets of data to score, so we get two results back\n",
    "\n",
    "#Generally, I figure we would send in all the columns from the original dataset and \n",
    "#then run it through the clean function to whittle it down, but that's not necessary for this exercise.\n",
    "data = {\n",
    "    \"data\":\n",
    "    [\n",
    "        {\n",
    "            'miles': \"51000\",\n",
    "            'year': \"2018\",\n",
    "            'make': \"Ford\",\n",
    "            'model': \"F-150\",\n",
    "            'engine_size': \"5\",\n",
    "            'body_type': \"Pickup\",\n",
    "            'vehicle_type': \"Truck\",\n",
    "            'drivetrain': \"4WD\",\n",
    "            'transmission': \"Automatic\",\n",
    "            'fuel_type': \"Unleaded / Unleaded\",\n",
    "            'state': \"ON\"\n",
    "            #Should be around 44649\n",
    "        }\n",
    "    ,\n",
    "        {\n",
    "            'miles': \"58900\",\n",
    "            'year': \"2018\",\n",
    "            'make': \"Toyota\",\n",
    "            'model': \"Corolla\",\n",
    "            'engine_size': \"1.8\",\n",
    "            'body_type': \"Sedan\",\n",
    "            'vehicle_type': \"Car\",\n",
    "            'drivetrain': \"FWD\",\n",
    "            'transmission': \"Automatic\",\n",
    "            'fuel_type': \"Unleaded\",\n",
    "            'state': \"AB\"\n",
    "            #Should be around 17850\n",
    "        }\n",
    "    ,\n",
    "        {\n",
    "            'miles': \"56010\",\n",
    "            'year': \"2018\",\n",
    "            'make': \"Mercedes\",\n",
    "            'model': \"GLC-Class\",\n",
    "            'engine_size': \"2\",\n",
    "            'body_type': \"SUV\",\n",
    "            'vehicle_type': \"Truck\",\n",
    "            'drivetrain': \"4WD\",\n",
    "            'transmission': \"Automatic\",\n",
    "            'fuel_type': \"Electric / Unleaded\",\n",
    "            'state': \"QC\"\n",
    "            #Should be around 44995\n",
    "        }\n",
    "    ]\n",
    "}\n",
    "# Convert to JSON string\n",
    "input_data = json.dumps(data)\n",
    "\n",
    "# Set the content type\n",
    "headers = {'Content-Type': 'application/json'}\n",
    "# If authentication is enabled, set the authorization header\n",
    "headers['Authorization'] = f'Bearer {key}'\n",
    "\n",
    "# Make the request and display the response\n",
    "resp = requests.post(scoring_uri, input_data, headers=headers)\n",
    "print(resp.text)"
   ]
  },
  {
   "cell_type": "markdown",
   "metadata": {},
   "source": [
    "TODO: In the cell below, print the logs of the web service and delete the service"
   ]
  },
  {
   "cell_type": "code",
   "execution_count": null,
   "metadata": {},
   "outputs": [],
   "source": [
    "# https://docs.microsoft.com/en-us/azure/machine-learning/how-to-log-view-metrics\n",
    "\n",
    "print(service.get_logs())\n",
    "\n",
    "service.delete()"
   ]
  }
 ],
 "metadata": {
  "kernel_info": {
   "name": "python3-azureml"
  },
  "kernelspec": {
   "display_name": "Python 3",
   "language": "python",
   "name": "python3"
  },
  "language_info": {
   "codemirror_mode": {
    "name": "ipython",
    "version": 3
   },
   "file_extension": ".py",
   "mimetype": "text/x-python",
   "name": "python",
   "nbconvert_exporter": "python",
   "pygments_lexer": "ipython3",
   "version": "3.8.10"
  },
  "nteract": {
   "version": "nteract-front-end@1.0.0"
  }
 },
 "nbformat": 4,
 "nbformat_minor": 2
}
