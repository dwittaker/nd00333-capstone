{
 "cells": [
  {
   "cell_type": "markdown",
   "metadata": {},
   "source": [
    "# Automated ML\n",
    "\n",
    "TODO: Import Dependencies. In the cell below, import all the dependencies that you will need to complete the project."
   ]
  },
  {
   "cell_type": "code",
   "execution_count": 2,
   "metadata": {
    "gather": {
     "logged": 1633306601147
    },
    "jupyter": {
     "outputs_hidden": false,
     "source_hidden": false
    },
    "nteract": {
     "transient": {
      "deleting": false
     }
    }
   },
   "outputs": [
    {
     "name": "stdout",
     "output_type": "stream",
     "text": [
      "SDK version: 1.34.0\n",
      "Requirement already satisfied: opendatasets in /anaconda/envs/azureml_py36/lib/python3.6/site-packages (0.1.20)\n",
      "Requirement already satisfied: tqdm in /anaconda/envs/azureml_py36/lib/python3.6/site-packages (from opendatasets) (4.62.2)\n",
      "Requirement already satisfied: kaggle in /anaconda/envs/azureml_py36/lib/python3.6/site-packages (from opendatasets) (1.5.12)\n",
      "Requirement already satisfied: click in /anaconda/envs/azureml_py36/lib/python3.6/site-packages (from opendatasets) (8.0.1)\n",
      "Requirement already satisfied: six>=1.10 in /anaconda/envs/azureml_py36/lib/python3.6/site-packages (from kaggle->opendatasets) (1.16.0)\n",
      "Requirement already satisfied: certifi in /anaconda/envs/azureml_py36/lib/python3.6/site-packages (from kaggle->opendatasets) (2021.5.30)\n",
      "Requirement already satisfied: requests in /anaconda/envs/azureml_py36/lib/python3.6/site-packages (from kaggle->opendatasets) (2.26.0)\n",
      "Requirement already satisfied: python-slugify in /anaconda/envs/azureml_py36/lib/python3.6/site-packages (from kaggle->opendatasets) (5.0.2)\n",
      "Requirement already satisfied: urllib3 in /anaconda/envs/azureml_py36/lib/python3.6/site-packages (from kaggle->opendatasets) (1.25.11)\n",
      "Requirement already satisfied: python-dateutil in /anaconda/envs/azureml_py36/lib/python3.6/site-packages (from kaggle->opendatasets) (2.8.2)\n",
      "Requirement already satisfied: importlib-metadata; python_version < \"3.8\" in /anaconda/envs/azureml_py36/lib/python3.6/site-packages (from click->opendatasets) (4.8.1)\n",
      "Requirement already satisfied: idna<4,>=2.5; python_version >= \"3\" in /anaconda/envs/azureml_py36/lib/python3.6/site-packages (from requests->kaggle->opendatasets) (3.2)\n",
      "Requirement already satisfied: charset-normalizer~=2.0.0; python_version >= \"3\" in /anaconda/envs/azureml_py36/lib/python3.6/site-packages (from requests->kaggle->opendatasets) (2.0.4)\n",
      "Requirement already satisfied: text-unidecode>=1.3 in /anaconda/envs/azureml_py36/lib/python3.6/site-packages (from python-slugify->kaggle->opendatasets) (1.3)\n",
      "Requirement already satisfied: zipp>=0.5 in /anaconda/envs/azureml_py36/lib/python3.6/site-packages (from importlib-metadata; python_version < \"3.8\"->click->opendatasets) (3.5.0)\n",
      "Requirement already satisfied: typing-extensions>=3.6.4; python_version < \"3.8\" in /anaconda/envs/azureml_py36/lib/python3.6/site-packages (from importlib-metadata; python_version < \"3.8\"->click->opendatasets) (3.10.0.2)\n"
     ]
    }
   ],
   "source": [
    "import logging\n",
    "import os\n",
    "import csv\n",
    "\n",
    "from matplotlib import pyplot as plt\n",
    "import numpy as np\n",
    "import pandas as pd\n",
    "from sklearn import datasets\n",
    "import pkg_resources\n",
    "\n",
    "import azureml.core\n",
    "from azureml.core.experiment import Experiment\n",
    "from azureml.core.workspace import Workspace\n",
    "from azureml.train.automl import AutoMLConfig\n",
    "from azureml.core.dataset import Dataset\n",
    "from azureml.train.automl.run import AutoMLRun\n",
    "\n",
    "\n",
    "from azureml.pipeline.steps import AutoMLStep\n",
    "\n",
    "# Check core SDK version number\n",
    "print(\"SDK version:\", azureml.core.VERSION)\n",
    "\n",
    "from azureml.core.compute import AmlCompute\n",
    "from azureml.core.compute import ComputeTarget\n",
    "from azureml.core.compute_target import ComputeTargetException\n",
    "\n",
    "!pip install opendatasets"
   ]
  },
  {
   "cell_type": "markdown",
   "metadata": {},
   "source": [
    "## Dataset\n",
    "\n",
    "### Overview\n",
    "TODO: In this markdown cell, give an overview of the dataset you are using. Also mention the task you will be performing.\n",
    "\n",
    "\n",
    "TODO: Get data. In the cell below, write code to access the data you will be using in this project. Remember that the dataset needs to be external."
   ]
  },
  {
   "cell_type": "code",
   "execution_count": 3,
   "metadata": {
    "gather": {
     "logged": 1633306602943
    },
    "jupyter": {
     "outputs_hidden": false,
     "source_hidden": false
    },
    "nteract": {
     "transient": {
      "deleting": false
     }
    }
   },
   "outputs": [
    {
     "name": "stdout",
     "output_type": "stream",
     "text": [
      "Retrieving registered dataset with key UsedCarPrices\n",
      "Dataset ID: 9927f2dd-0569-4f77-96fe-684f630609d6\n",
      "Dataset name: UsedCarPrices\n",
      "Dataset description: Used Car Price Training Data\n"
     ]
    }
   ],
   "source": [
    "\n",
    "import opendatasets as od\n",
    "import time\n",
    "import shutil\n",
    "\n",
    "def download_data(url, dsname, downloadpath, file):\n",
    "    if not os.path.exists(downloadpath):\n",
    "        os.makedirs(downloadpath)\n",
    "\n",
    "    od.download(url)\n",
    "    data_downloadpath = os.path.join(dsname, file)\n",
    "    data_finalpath = os.path.join(downloadpath, file)\n",
    "    \n",
    "    os.rename(data_downloadpath, data_finalpath)\n",
    "    while not os.path.exists(data_finalpath):\n",
    "        time.sleep(1)\n",
    "    shutil.rmtree(f\"./{dsname}\")\n",
    "    \n",
    "    return data_finalpath\n",
    "\n",
    "ws = Workspace.from_config()\n",
    "dataurl = 'https://www.kaggle.com/rupeshraundal/marketcheck-automotive-data-us-canada/download'\n",
    "kaggledsname = 'marketcheck-automotive-data-us-canada'\n",
    "filenm = 'ca-dealers-used.csv'\n",
    "downloadpath = 'Data'\n",
    "dskey = 'UsedCarPrices'\n",
    "dsdesc = 'Used Car Price Training Data'\n",
    "found = False\n",
    "\n",
    "dataset = None\n",
    "if dskey in ws.datasets.keys(): \n",
    "    print(f\"Retrieving registered dataset with key {dskey}\")\n",
    "    found = True\n",
    "    dataset = ws.datasets[dskey] \n",
    "\n",
    "if not found:\n",
    "    print(\"Downloading Canadian used car prices dataset from Kaggle\")\n",
    "    filepath = downloadpath\n",
    "    \n",
    "    if not os.path.exists(os.path.join(downloadpath, filenm)):\n",
    "        datapath = download_data(dataurl, kaggledsname, downloadpath, filenm)\n",
    "    \n",
    "    \n",
    "    # get the datastore to upload prepared data\n",
    "    datastore = ws.get_default_datastore()\n",
    "    \n",
    "    \n",
    "    print(\"Uploading to azure storage\")\n",
    "    # upload the local file from src_dir to the target_path in datastore\n",
    "    datastore.upload(src_dir=downloadpath, target_path=downloadpath)\n",
    "    print(\"Converting to azure dataset\")\n",
    "    dataset = Dataset.Tabular.from_delimited_files(path=[(datastore, (os.path.join(filepath, filenm)))], separator=',', header=True, encoding='utf8')\n",
    "    \n",
    "    print(\"Registering dataset\")\n",
    "    dataset = dataset.register(workspace=ws,\n",
    "                                 name=dskey,\n",
    "                                 description=dsdesc)\n",
    "\n",
    "\n",
    "print(f'Dataset ID: {dataset.id}')\n",
    "print(f'Dataset name: {dataset.name}')\n",
    "print(f'Dataset description: {dataset.description}')\n"
   ]
  },
  {
   "cell_type": "code",
   "execution_count": 4,
   "metadata": {
    "gather": {
     "logged": 1633306607331
    }
   },
   "outputs": [
    {
     "name": "stdout",
     "output_type": "stream",
     "text": [
      "Configuring compute cluster\n",
      "Found existing cluster, use it.\n",
      "Succeeded\n",
      "AmlCompute wait for completion finished\n",
      "\n",
      "Minimum number of nodes requested have been provisioned\n"
     ]
    }
   ],
   "source": [
    "\n",
    "print(\"Configuring compute cluster\")\n",
    "experiment_name = 'PCAP_Exp_CarPrices_AutoML'\n",
    "experiment=Experiment(ws, experiment_name)\n",
    "\n",
    "\n",
    "amlcompute_cluster_name = \"PCAP-Clus-DS12v2\"\n",
    "try:\n",
    "    compute_target = ComputeTarget(workspace=ws, name=amlcompute_cluster_name)\n",
    "    print('Found existing cluster, use it.')\n",
    "except ComputeTargetException:\n",
    "    compute_config = AmlCompute.provisioning_configuration(vm_size='STANDARD_DS12_V2',# for GPU, use \"STANDARD_NC6\"\n",
    "                                                           #vm_priority = 'lowpriority', # optional\n",
    "                                                           min_nodes = 1, idle_seconds_before_scaledown = 120,\n",
    "                                                           max_nodes=6)\n",
    "    compute_target = ComputeTarget.create(ws, amlcompute_cluster_name, compute_config)\n",
    "\n",
    "compute_target.wait_for_completion(show_output=True)\n"
   ]
  },
  {
   "cell_type": "markdown",
   "metadata": {},
   "source": [
    "## AutoML Configuration\n",
    "\n",
    "TODO: Explain why you chose the automl settings and cofiguration you used below."
   ]
  },
  {
   "cell_type": "code",
   "execution_count": 4,
   "metadata": {
    "gather": {
     "logged": 1633299947872
    },
    "jupyter": {
     "outputs_hidden": false,
     "source_hidden": false
    },
    "nteract": {
     "transient": {
      "deleting": false
     }
    }
   },
   "outputs": [],
   "source": [
    "# https://docs.microsoft.com/en-us/azure/machine-learning/how-to-use-automlstep-in-pipelines\n",
    "# https://docs.microsoft.com/en-us/python/api/azureml-train-automl-client/azureml.train.automl.automlconfig.automlconfig?view=azure-ml-py\n",
    "# TODO: Put your automl settings here\n",
    "automl_settings = {\n",
    "    \"experiment_timeout_hours\": 0.5,\n",
    "    \"iteration_timeout_minutes\":20,\n",
    "    \"enable_early_stopping\": True,\n",
    "    \"early_stopping_n_iters\": 5,\n",
    "    \"max_concurrent_iterations\": 5,\n",
    "    \"primary_metric\" : 'r2_score',\n",
    "    \"verbosity\": logging.INFO,\n",
    "    \"n_cross_validations\": 5,\n",
    "    \"featurization\":'auto',\n",
    "    \"model_explainability\":True\n",
    "}\n",
    "# https://docs.microsoft.com/en-us/azure/machine-learning/how-to-configure-auto-train\n",
    "# Metrics like r2_score and spearman_correlation can better represent the quality of model when the scale of the value-to-predict covers many orders of magnitude. \n",
    "# https://docs.microsoft.com/en-us/azure/machine-learning/how-to-configure-auto-train\n",
    "# TODO: Put your automl config here\n",
    "automl_config = AutoMLConfig(\n",
    "    compute_target=compute_target,\n",
    "    task = \"regression\",\n",
    "    training_data=dataset,\n",
    "    label_column_name=\"price\",  \n",
    "    debug_log = \"automl_errors.log\",\n",
    "    **automl_settings\n",
    ")"
   ]
  },
  {
   "cell_type": "code",
   "execution_count": 15,
   "metadata": {
    "gather": {
     "logged": 1598431107951
    },
    "jupyter": {
     "outputs_hidden": false,
     "source_hidden": false
    },
    "nteract": {
     "transient": {
      "deleting": false
     }
    }
   },
   "outputs": [
    {
     "name": "stdout",
     "output_type": "stream",
     "text": [
      "Submitting remote run.\n",
      "No run_configuration provided, running on PCAP-Clus-DS12v2 with default configuration\n",
      "Running on remote compute: PCAP-Clus-DS12v2\n"
     ]
    },
    {
     "data": {
      "text/html": [
       "<table style=\"width:100%\"><tr><th>Experiment</th><th>Id</th><th>Type</th><th>Status</th><th>Details Page</th><th>Docs Page</th></tr><tr><td>PCAP_Exp_CarPrices_AutoML</td><td>AutoML_2531e0e0-ceba-4864-b453-a94fe7cc18c5</td><td>automl</td><td>NotStarted</td><td><a href=\"https://ml.azure.com/runs/AutoML_2531e0e0-ceba-4864-b453-a94fe7cc18c5?wsid=/subscriptions/610d6e37-4747-4a20-80eb-3aad70a55f43/resourcegroups/aml-quickstarts-159929/workspaces/quick-starts-ws-159929&amp;tid=660b3398-b80e-49d2-bc5b-ac1dc93b5254\" target=\"_blank\" rel=\"noopener\">Link to Azure Machine Learning studio</a></td><td><a href=\"https://docs.microsoft.com/en-us/python/api/overview/azure/ml/intro?view=azure-ml-py\" target=\"_blank\" rel=\"noopener\">Link to Documentation</a></td></tr></table>"
      ],
      "text/plain": [
       "<IPython.core.display.HTML object>"
      ]
     },
     "metadata": {},
     "output_type": "display_data"
    },
    {
     "name": "stdout",
     "output_type": "stream",
     "text": [
      "\n"
     ]
    }
   ],
   "source": [
    "\n",
    "\n",
    "# TODO: Submit your experiment\n",
    "remote_run = experiment.submit(automl_config, show_output=False)\n"
   ]
  },
  {
   "cell_type": "code",
   "execution_count": 7,
   "metadata": {
    "gather": {
     "logged": 1633300009150
    },
    "jupyter": {
     "outputs_hidden": false,
     "source_hidden": false
    },
    "nteract": {
     "transient": {
      "deleting": false
     }
    }
   },
   "outputs": [
    {
     "name": "stdout",
     "output_type": "stream",
     "text": [
      "Run(Experiment: PCAP_Exp_CarPrices_AutoML,\n",
      "Id: AutoML_2531e0e0-ceba-4864-b453-a94fe7cc18c5,\n",
      "Type: automl,\n",
      "Status: Completed)\n"
     ]
    }
   ],
   "source": [
    "# from azureml.train.automl.run import AutoMLRun\n",
    "# experiment = Experiment(ws, name=\"PCAP_Exp_CarPrices_AutoML\")\n",
    "# # remote_run = AutoMLRun(experiment, run_id = \"AutoML_2531e0e0-ceba-4864-b453-a94fe7cc18c5\")\n",
    "# lastrun = experiment.get_runs(include_children=False)[0].id\n",
    "# print(lastrun.id)\n",
    "# remote_run = AutoMLRun(experiment, run_id = lastrun.id)\n",
    "# print(remote_run)"
   ]
  },
  {
   "cell_type": "markdown",
   "metadata": {},
   "source": [
    "## Run Details\n",
    "\n",
    "OPTIONAL: Write about the different models trained and their performance. Why do you think some models did better than others?\n",
    "\n",
    "TODO: In the cell below, use the `RunDetails` widget to show the different experiments."
   ]
  },
  {
   "cell_type": "code",
   "execution_count": 8,
   "metadata": {
    "gather": {
     "logged": 1633300030233
    },
    "jupyter": {
     "outputs_hidden": false,
     "source_hidden": false
    },
    "nteract": {
     "transient": {
      "deleting": false
     }
    }
   },
   "outputs": [
    {
     "data": {
      "application/vnd.jupyter.widget-view+json": {
       "model_id": "032ca2608e454c63b0d748a987725666",
       "version_major": 2,
       "version_minor": 0
      },
      "text/plain": [
       "_AutoMLWidget(widget_settings={'childWidgetDisplay': 'popup', 'send_telemetry': False, 'log_level': 'INFO', 's…"
      ]
     },
     "metadata": {},
     "output_type": "display_data"
    },
    {
     "data": {
      "application/aml.mini.widget.v1": "{\"status\": \"Completed\", \"workbench_run_details_uri\": \"https://ml.azure.com/runs/AutoML_2531e0e0-ceba-4864-b453-a94fe7cc18c5?wsid=/subscriptions/610d6e37-4747-4a20-80eb-3aad70a55f43/resourcegroups/aml-quickstarts-159929/workspaces/quick-starts-ws-159929&tid=660b3398-b80e-49d2-bc5b-ac1dc93b5254\", \"run_id\": \"AutoML_2531e0e0-ceba-4864-b453-a94fe7cc18c5\", \"run_properties\": {\"run_id\": \"AutoML_2531e0e0-ceba-4864-b453-a94fe7cc18c5\", \"created_utc\": \"2021-10-03T20:57:03.254152Z\", \"properties\": {\"num_iterations\": \"1000\", \"training_type\": \"TrainFull\", \"acquisition_function\": \"EI\", \"primary_metric\": \"r2_score\", \"train_split\": \"0\", \"acquisition_parameter\": \"0\", \"num_cross_validation\": \"5\", \"target\": \"PCAP-Clus-DS12v2\", \"AMLSettingsJsonString\": \"{\\\"path\\\":null,\\\"name\\\":\\\"PCAP_Exp_CarPrices_AutoML\\\",\\\"subscription_id\\\":\\\"610d6e37-4747-4a20-80eb-3aad70a55f43\\\",\\\"resource_group\\\":\\\"aml-quickstarts-159929\\\",\\\"workspace_name\\\":\\\"quick-starts-ws-159929\\\",\\\"region\\\":\\\"southcentralus\\\",\\\"compute_target\\\":\\\"PCAP-Clus-DS12v2\\\",\\\"spark_service\\\":null,\\\"azure_service\\\":\\\"remote\\\",\\\"many_models\\\":false,\\\"pipeline_fetch_max_batch_size\\\":1,\\\"enable_batch_run\\\":false,\\\"enable_run_restructure\\\":false,\\\"start_auxiliary_runs_before_parent_complete\\\":false,\\\"enable_code_generation\\\":false,\\\"iterations\\\":1000,\\\"primary_metric\\\":\\\"r2_score\\\",\\\"task_type\\\":\\\"regression\\\",\\\"data_script\\\":null,\\\"test_size\\\":0.0,\\\"test_include_predictions_only\\\":false,\\\"validation_size\\\":0.0,\\\"n_cross_validations\\\":5,\\\"y_min\\\":null,\\\"y_max\\\":null,\\\"num_classes\\\":null,\\\"featurization\\\":\\\"auto\\\",\\\"_ignore_package_version_incompatibilities\\\":false,\\\"is_timeseries\\\":false,\\\"max_cores_per_iteration\\\":1,\\\"max_concurrent_iterations\\\":5,\\\"iteration_timeout_minutes\\\":null,\\\"mem_in_mb\\\":null,\\\"enforce_time_on_windows\\\":false,\\\"experiment_timeout_minutes\\\":60,\\\"experiment_exit_score\\\":null,\\\"whitelist_models\\\":null,\\\"blacklist_algos\\\":[\\\"TensorFlowDNN\\\",\\\"TensorFlowLinearRegressor\\\"],\\\"supported_models\\\":[\\\"KNN\\\",\\\"GradientBoosting\\\",\\\"TensorFlowDNN\\\",\\\"SGD\\\",\\\"RandomForest\\\",\\\"LassoLars\\\",\\\"TensorFlowLinearRegressor\\\",\\\"ElasticNet\\\",\\\"ExtremeRandomTrees\\\",\\\"FastLinearRegressor\\\",\\\"OnlineGradientDescentRegressor\\\",\\\"LightGBM\\\",\\\"XGBoostRegressor\\\",\\\"DecisionTree\\\"],\\\"private_models\\\":[],\\\"auto_blacklist\\\":true,\\\"blacklist_samples_reached\\\":false,\\\"exclude_nan_labels\\\":true,\\\"verbosity\\\":20,\\\"_debug_log\\\":\\\"azureml_automl.log\\\",\\\"show_warnings\\\":false,\\\"model_explainability\\\":true,\\\"service_url\\\":null,\\\"sdk_url\\\":null,\\\"sdk_packages\\\":null,\\\"enable_onnx_compatible_models\\\":false,\\\"enable_split_onnx_featurizer_estimator_models\\\":false,\\\"vm_type\\\":\\\"STANDARD_DS12_V2\\\",\\\"telemetry_verbosity\\\":20,\\\"send_telemetry\\\":true,\\\"enable_dnn\\\":false,\\\"scenario\\\":\\\"SDK-1.13.0\\\",\\\"environment_label\\\":null,\\\"save_mlflow\\\":false,\\\"force_text_dnn\\\":false,\\\"enable_feature_sweeping\\\":true,\\\"enable_early_stopping\\\":true,\\\"early_stopping_n_iters\\\":10,\\\"metrics\\\":null,\\\"enable_metric_confidence\\\":false,\\\"enable_ensembling\\\":true,\\\"enable_stack_ensembling\\\":true,\\\"ensemble_iterations\\\":15,\\\"enable_tf\\\":false,\\\"enable_subsampling\\\":null,\\\"subsample_seed\\\":null,\\\"enable_nimbusml\\\":false,\\\"enable_streaming\\\":false,\\\"force_streaming\\\":false,\\\"track_child_runs\\\":true,\\\"allowed_private_models\\\":[],\\\"label_column_name\\\":\\\"price\\\",\\\"weight_column_name\\\":null,\\\"cv_split_column_names\\\":null,\\\"positive_label\\\":null,\\\"enable_local_managed\\\":false,\\\"_local_managed_run_id\\\":null,\\\"cost_mode\\\":1,\\\"lag_length\\\":0,\\\"metric_operation\\\":\\\"maximize\\\",\\\"preprocess\\\":true}\", \"DataPrepJsonString\": \"{\\\\\\\"training_data\\\\\\\": {\\\\\\\"datasetId\\\\\\\": \\\\\\\"9927f2dd-0569-4f77-96fe-684f630609d6\\\\\\\"}, \\\\\\\"datasets\\\\\\\": 0}\", \"EnableSubsampling\": null, \"runTemplate\": \"AutoML\", \"azureml.runsource\": \"automl\", \"display_task_type\": \"regression\", \"dependencies_versions\": \"{\\\"azureml-widgets\\\": \\\"1.34.0\\\", \\\"azureml-train\\\": \\\"1.34.0\\\", \\\"azureml-train-restclients-hyperdrive\\\": \\\"1.34.0\\\", \\\"azureml-train-core\\\": \\\"1.34.0\\\", \\\"azureml-train-automl\\\": \\\"1.34.0\\\", \\\"azureml-train-automl-runtime\\\": \\\"1.34.0\\\", \\\"azureml-train-automl-client\\\": \\\"1.34.0\\\", \\\"azureml-tensorboard\\\": \\\"1.34.0\\\", \\\"azureml-telemetry\\\": \\\"1.34.0\\\", \\\"azureml-sdk\\\": \\\"1.34.0\\\", \\\"azureml-samples\\\": \\\"0+unknown\\\", \\\"azureml-responsibleai\\\": \\\"1.34.0\\\", \\\"azureml-pipeline\\\": \\\"1.34.0\\\", \\\"azureml-pipeline-steps\\\": \\\"1.34.0\\\", \\\"azureml-pipeline-core\\\": \\\"1.34.0\\\", \\\"azureml-opendatasets\\\": \\\"1.34.0\\\", \\\"azureml-mlflow\\\": \\\"1.34.0\\\", \\\"azureml-interpret\\\": \\\"1.34.0\\\", \\\"azureml-inference-server-http\\\": \\\"0.3.1\\\", \\\"azureml-explain-model\\\": \\\"1.34.0\\\", \\\"azureml-defaults\\\": \\\"1.34.0\\\", \\\"azureml-dataset-runtime\\\": \\\"1.34.0\\\", \\\"azureml-dataprep\\\": \\\"2.22.2\\\", \\\"azureml-dataprep-rslex\\\": \\\"1.20.1\\\", \\\"azureml-dataprep-native\\\": \\\"38.0.0\\\", \\\"azureml-datadrift\\\": \\\"1.34.0\\\", \\\"azureml-core\\\": \\\"1.34.0\\\", \\\"azureml-contrib-services\\\": \\\"1.34.0\\\", \\\"azureml-contrib-server\\\": \\\"1.34.0\\\", \\\"azureml-contrib-reinforcementlearning\\\": \\\"1.34.0\\\", \\\"azureml-contrib-pipeline-steps\\\": \\\"1.34.0\\\", \\\"azureml-contrib-notebook\\\": \\\"1.34.0\\\", \\\"azureml-contrib-fairness\\\": \\\"1.34.0\\\", \\\"azureml-contrib-dataset\\\": \\\"1.34.0\\\", \\\"azureml-contrib-automl-pipeline-steps\\\": \\\"1.34.0\\\", \\\"azureml-cli-common\\\": \\\"1.34.0\\\", \\\"azureml-automl-runtime\\\": \\\"1.34.0\\\", \\\"azureml-automl-dnn-nlp\\\": \\\"1.34.0\\\", \\\"azureml-automl-core\\\": \\\"1.34.0\\\", \\\"azureml-accel-models\\\": \\\"1.34.0\\\"}\", \"_aml_system_scenario_identification\": \"Remote.Parent\", \"ClientType\": \"SDK\", \"environment_cpu_name\": \"AzureML-AutoML\", \"environment_cpu_label\": \"prod\", \"environment_gpu_name\": \"AzureML-AutoML-GPU\", \"environment_gpu_label\": \"prod\", \"root_attribution\": \"automl\", \"attribution\": \"AutoML\", \"Orchestrator\": \"AutoML\", \"CancelUri\": \"https://southcentralus.api.azureml.ms/jasmine/v1.0/subscriptions/610d6e37-4747-4a20-80eb-3aad70a55f43/resourceGroups/aml-quickstarts-159929/providers/Microsoft.MachineLearningServices/workspaces/quick-starts-ws-159929/experimentids/be5f20a8-9cd6-4ebd-a1c6-7f9d9218729a/cancel/AutoML_2531e0e0-ceba-4864-b453-a94fe7cc18c5\", \"ClientSdkVersion\": \"1.34.0.post1\", \"snapshotId\": \"00000000-0000-0000-0000-000000000000\", \"SetupRunId\": \"AutoML_2531e0e0-ceba-4864-b453-a94fe7cc18c5_setup\", \"SetupRunContainerId\": \"dcid.AutoML_2531e0e0-ceba-4864-b453-a94fe7cc18c5_setup\", \"FeaturizationRunJsonPath\": \"featurizer_container.json\", \"FeaturizationRunId\": \"AutoML_2531e0e0-ceba-4864-b453-a94fe7cc18c5_featurize\", \"ProblemInfoJsonString\": \"{\\\"dataset_num_categorical\\\": 0, \\\"is_sparse\\\": true, \\\"subsampling\\\": false, \\\"has_extra_col\\\": true, \\\"dataset_classes\\\": 27979, \\\"dataset_features\\\": 12427, \\\"dataset_samples\\\": 358486, \\\"single_frequency_class_detected\\\": false}\", \"ModelExplainRunId\": \"AutoML_2531e0e0-ceba-4864-b453-a94fe7cc18c5_ModelExplain\"}, \"tags\": {\"model_explain_run\": \"best_run\", \"_aml_system_azureml.automlComponent\": \"AutoML\", \"pipeline_id\": \"\", \"score\": \"\", \"predicted_cost\": \"\", \"fit_time\": \"\", \"training_percent\": \"\", \"iteration\": \"\", \"run_preprocessor\": \"\", \"run_algorithm\": \"\", \"dynamic_whitelisting_iterations\": \"<25>;<30>;\", \"automl_best_child_run_id\": \"AutoML_2531e0e0-ceba-4864-b453-a94fe7cc18c5_32\", \"model_explain_best_run_child_id\": \"AutoML_2531e0e0-ceba-4864-b453-a94fe7cc18c5_32\"}, \"end_time_utc\": \"2021-10-03T22:09:38.370964Z\", \"status\": \"Completed\", \"log_files\": {}, \"log_groups\": [], \"run_duration\": \"1:12:35\", \"run_number\": \"1\", \"run_queued_details\": {\"status\": \"Completed\", \"details\": null}}, \"child_runs\": [{\"run_id\": \"AutoML_2531e0e0-ceba-4864-b453-a94fe7cc18c5_0\", \"run_number\": 5, \"metric\": null, \"status\": \"Completed\", \"run_type\": \"azureml.scriptrun\", \"training_percent\": \"100\", \"start_time\": \"2021-10-03T21:10:00.64129Z\", \"end_time\": \"2021-10-03T21:12:22.4294Z\", \"created_time\": \"2021-10-03T21:06:39.725197Z\", \"created_time_dt\": \"2021-10-03T21:06:39.725197Z\", \"duration\": \"0:05:42\", \"iteration\": \"0\", \"goal\": \"r2_score_max\", \"run_name\": \"MaxAbsScaler, LightGBM\", \"run_properties\": \"copy=True\", \"primary_metric\": 0.8897589, \"best_metric\": 0.8897589}, {\"run_id\": \"AutoML_2531e0e0-ceba-4864-b453-a94fe7cc18c5_1\", \"run_number\": 6, \"metric\": null, \"status\": \"Completed\", \"run_type\": \"azureml.scriptrun\", \"training_percent\": \"100\", \"start_time\": \"2021-10-03T21:08:13.011363Z\", \"end_time\": \"2021-10-03T21:11:51.885718Z\", \"created_time\": \"2021-10-03T21:06:39.72773Z\", \"created_time_dt\": \"2021-10-03T21:06:39.72773Z\", \"duration\": \"0:05:12\", \"iteration\": \"1\", \"goal\": \"r2_score_max\", \"run_name\": \"MaxAbsScaler, XGBoostRegressor\", \"run_properties\": \"copy=True\", \"primary_metric\": 0.83111938, \"best_metric\": 0.8897589}, {\"run_id\": \"AutoML_2531e0e0-ceba-4864-b453-a94fe7cc18c5_3\", \"run_number\": 7, \"metric\": null, \"status\": \"Canceled\", \"run_type\": \"azureml.scriptrun\", \"training_percent\": \"100\", \"start_time\": \"2021-10-03T21:10:01.666557Z\", \"end_time\": \"2021-10-03T21:44:11.463893Z\", \"created_time\": \"2021-10-03T21:06:39.745726Z\", \"created_time_dt\": \"2021-10-03T21:06:39.745726Z\", \"duration\": \"0:37:31\", \"iteration\": \"3\", \"goal\": null, \"run_name\": \"MaxAbsScaler, ElasticNet\", \"run_properties\": null}, {\"run_id\": \"AutoML_2531e0e0-ceba-4864-b453-a94fe7cc18c5_4\", \"run_number\": 8, \"metric\": null, \"status\": \"Completed\", \"run_type\": \"azureml.scriptrun\", \"training_percent\": \"100\", \"start_time\": \"2021-10-03T21:06:52.258791Z\", \"end_time\": \"2021-10-03T21:07:53.691415Z\", \"created_time\": \"2021-10-03T21:06:39.748035Z\", \"created_time_dt\": \"2021-10-03T21:06:39.748035Z\", \"duration\": \"0:01:13\", \"iteration\": \"4\", \"goal\": \"r2_score_max\", \"run_name\": \"MaxAbsScaler, LightGBM\", \"run_properties\": \"copy=True\", \"primary_metric\": 0.55107211, \"best_metric\": 0.92450986}, {\"run_id\": \"AutoML_2531e0e0-ceba-4864-b453-a94fe7cc18c5_2\", \"run_number\": 9, \"metric\": null, \"status\": \"Completed\", \"run_type\": \"azureml.scriptrun\", \"training_percent\": \"100\", \"start_time\": \"2021-10-03T21:09:59.553061Z\", \"end_time\": \"2021-10-03T21:16:18.601001Z\", \"created_time\": \"2021-10-03T21:06:39.751876Z\", \"created_time_dt\": \"2021-10-03T21:06:39.751876Z\", \"duration\": \"0:09:38\", \"iteration\": \"2\", \"goal\": \"r2_score_max\", \"run_name\": \"StandardScalerWrapper, XGBoostRegressor\", \"run_properties\": \"\\n    copy=True,\\n    with_mean=False,\\n    with_std=False\\n\", \"primary_metric\": 0.92450986, \"best_metric\": 0.92450986}, {\"run_id\": \"AutoML_2531e0e0-ceba-4864-b453-a94fe7cc18c5_5\", \"run_number\": 10, \"metric\": null, \"status\": \"Completed\", \"run_type\": \"azureml.scriptrun\", \"training_percent\": \"100\", \"start_time\": \"2021-10-03T21:10:00.470524Z\", \"end_time\": \"2021-10-03T21:15:08.87251Z\", \"created_time\": \"2021-10-03T21:07:57.304494Z\", \"created_time_dt\": \"2021-10-03T21:07:57.304494Z\", \"duration\": \"0:07:11\", \"iteration\": \"5\", \"goal\": \"r2_score_max\", \"run_name\": \"SparseNormalizer, XGBoostRegressor\", \"run_properties\": \"copy=True, norm='l2'\", \"primary_metric\": 0.71607403, \"best_metric\": 0.92450986}, {\"run_id\": \"AutoML_2531e0e0-ceba-4864-b453-a94fe7cc18c5_6\", \"run_number\": 11, \"metric\": null, \"status\": \"Completed\", \"run_type\": \"azureml.scriptrun\", \"training_percent\": \"100\", \"start_time\": \"2021-10-03T21:12:07.26873Z\", \"end_time\": \"2021-10-03T21:13:53.62719Z\", \"created_time\": \"2021-10-03T21:11:55.36363Z\", \"created_time_dt\": \"2021-10-03T21:11:55.36363Z\", \"duration\": \"0:01:58\", \"iteration\": \"6\", \"goal\": \"r2_score_max\", \"run_name\": \"MaxAbsScaler, RandomForest\", \"run_properties\": \"copy=True\", \"primary_metric\": 0.12370446, \"best_metric\": 0.92450986}, {\"run_id\": \"AutoML_2531e0e0-ceba-4864-b453-a94fe7cc18c5_7\", \"run_number\": 12, \"metric\": null, \"status\": \"Completed\", \"run_type\": \"azureml.scriptrun\", \"training_percent\": \"100\", \"start_time\": \"2021-10-03T21:12:37.590993Z\", \"end_time\": \"2021-10-03T21:15:15.255168Z\", \"created_time\": \"2021-10-03T21:12:25.577383Z\", \"created_time_dt\": \"2021-10-03T21:12:25.577383Z\", \"duration\": \"0:02:49\", \"iteration\": \"7\", \"goal\": \"r2_score_max\", \"run_name\": \"MaxAbsScaler, RandomForest\", \"run_properties\": \"copy=True\", \"primary_metric\": 0.38307922, \"best_metric\": 0.92450986}, {\"run_id\": \"AutoML_2531e0e0-ceba-4864-b453-a94fe7cc18c5_8\", \"run_number\": 13, \"metric\": null, \"status\": \"Completed\", \"run_type\": \"azureml.scriptrun\", \"training_percent\": \"100\", \"start_time\": \"2021-10-03T21:14:08.259974Z\", \"end_time\": \"2021-10-03T21:35:25.502873Z\", \"created_time\": \"2021-10-03T21:13:57.093414Z\", \"created_time_dt\": \"2021-10-03T21:13:57.093414Z\", \"duration\": \"0:21:28\", \"iteration\": \"8\", \"goal\": \"r2_score_max\", \"run_name\": \"StandardScalerWrapper, ExtremeRandomTrees\", \"run_properties\": \"\\n    copy=True,\\n    with_mean=False,\\n    with_std=False\\n\", \"primary_metric\": 0.31370962, \"best_metric\": 0.92450986}, {\"run_id\": \"AutoML_2531e0e0-ceba-4864-b453-a94fe7cc18c5_9\", \"run_number\": 14, \"metric\": null, \"status\": \"Completed\", \"run_type\": \"azureml.scriptrun\", \"training_percent\": \"100\", \"start_time\": \"2021-10-03T21:15:23.901621Z\", \"end_time\": \"2021-10-03T21:23:19.257908Z\", \"created_time\": \"2021-10-03T21:15:12.348924Z\", \"created_time_dt\": \"2021-10-03T21:15:12.348924Z\", \"duration\": \"0:08:06\", \"iteration\": \"9\", \"goal\": \"r2_score_max\", \"run_name\": \"SparseNormalizer, XGBoostRegressor\", \"run_properties\": \"copy=True, norm='l2'\", \"primary_metric\": 0.80638213, \"best_metric\": 0.92450986}, {\"run_id\": \"AutoML_2531e0e0-ceba-4864-b453-a94fe7cc18c5_10\", \"run_number\": 15, \"metric\": null, \"status\": \"Completed\", \"run_type\": \"azureml.scriptrun\", \"training_percent\": \"100\", \"start_time\": \"2021-10-03T21:15:30.110362Z\", \"end_time\": \"2021-10-03T21:20:21.348262Z\", \"created_time\": \"2021-10-03T21:15:18.6749Z\", \"created_time_dt\": \"2021-10-03T21:15:18.6749Z\", \"duration\": \"0:05:02\", \"iteration\": \"10\", \"goal\": \"r2_score_max\", \"run_name\": \"MaxAbsScaler, ExtremeRandomTrees\", \"run_properties\": \"copy=True\", \"primary_metric\": 0.46068608, \"best_metric\": 0.92450986}, {\"run_id\": \"AutoML_2531e0e0-ceba-4864-b453-a94fe7cc18c5_11\", \"run_number\": 16, \"metric\": null, \"status\": \"Canceled\", \"run_type\": \"azureml.scriptrun\", \"training_percent\": \"100\", \"start_time\": \"2021-10-03T21:16:33.630706Z\", \"end_time\": \"2021-10-03T21:47:00.585281Z\", \"created_time\": \"2021-10-03T21:16:21.878391Z\", \"created_time_dt\": \"2021-10-03T21:16:21.878391Z\", \"duration\": \"0:30:38\", \"iteration\": \"11\", \"goal\": null, \"run_name\": \"MaxAbsScaler, ElasticNet\", \"run_properties\": null}, {\"run_id\": \"AutoML_2531e0e0-ceba-4864-b453-a94fe7cc18c5_12\", \"run_number\": 17, \"metric\": null, \"status\": \"Canceled\", \"run_type\": \"azureml.scriptrun\", \"training_percent\": \"100\", \"start_time\": \"2021-10-03T21:20:39.034091Z\", \"end_time\": \"2021-10-03T21:47:34.966872Z\", \"created_time\": \"2021-10-03T21:20:25.619407Z\", \"created_time_dt\": \"2021-10-03T21:20:25.619407Z\", \"duration\": \"0:27:09\", \"iteration\": \"12\", \"goal\": null, \"run_name\": \"SparseNormalizer, XGBoostRegressor\", \"run_properties\": null}, {\"run_id\": \"AutoML_2531e0e0-ceba-4864-b453-a94fe7cc18c5_13\", \"run_number\": 18, \"metric\": null, \"status\": \"Completed\", \"run_type\": \"azureml.scriptrun\", \"training_percent\": \"100\", \"start_time\": \"2021-10-03T21:23:35.269658Z\", \"end_time\": \"2021-10-03T21:48:45.360731Z\", \"created_time\": \"2021-10-03T21:23:22.936493Z\", \"created_time_dt\": \"2021-10-03T21:23:22.936493Z\", \"duration\": \"0:25:22\", \"iteration\": \"13\", \"goal\": \"r2_score_max\", \"run_name\": \"MaxAbsScaler, RandomForest\", \"run_properties\": \"copy=True\", \"primary_metric\": 0.37208663, \"best_metric\": 0.92450986}, {\"run_id\": \"AutoML_2531e0e0-ceba-4864-b453-a94fe7cc18c5_14\", \"run_number\": 19, \"metric\": null, \"status\": \"Completed\", \"run_type\": \"azureml.scriptrun\", \"training_percent\": \"100\", \"start_time\": \"2021-10-03T21:35:42.439106Z\", \"end_time\": \"2021-10-03T21:44:38.152567Z\", \"created_time\": \"2021-10-03T21:35:28.912487Z\", \"created_time_dt\": \"2021-10-03T21:35:28.912487Z\", \"duration\": \"0:09:09\", \"iteration\": \"14\", \"goal\": \"r2_score_max\", \"run_name\": \"StandardScalerWrapper, XGBoostRegressor\", \"run_properties\": \"\\n    copy=True,\\n    with_mean=False,\\n    with_std=False\\n\", \"primary_metric\": 0.92832072, \"best_metric\": 0.92832072}, {\"run_id\": \"AutoML_2531e0e0-ceba-4864-b453-a94fe7cc18c5_15\", \"run_number\": 20, \"metric\": null, \"status\": \"Canceled\", \"run_type\": \"azureml.scriptrun\", \"training_percent\": \"100\", \"start_time\": \"2021-10-03T21:44:23.165621Z\", \"end_time\": \"2021-10-03T22:06:27.489895Z\", \"created_time\": \"2021-10-03T21:44:15.029857Z\", \"created_time_dt\": \"2021-10-03T21:44:15.029857Z\", \"duration\": \"0:22:12\", \"iteration\": \"15\", \"goal\": null, \"run_name\": \"StandardScalerWrapper, ElasticNet\", \"run_properties\": null}, {\"run_id\": \"AutoML_2531e0e0-ceba-4864-b453-a94fe7cc18c5_16\", \"run_number\": 21, \"metric\": null, \"status\": \"Completed\", \"run_type\": \"azureml.scriptrun\", \"training_percent\": \"100\", \"start_time\": \"2021-10-03T21:44:53.609994Z\", \"end_time\": \"2021-10-03T21:50:41.034794Z\", \"created_time\": \"2021-10-03T21:44:42.076169Z\", \"created_time_dt\": \"2021-10-03T21:44:42.076169Z\", \"duration\": \"0:05:58\", \"iteration\": \"16\", \"goal\": \"r2_score_max\", \"run_name\": \"MaxAbsScaler, RandomForest\", \"run_properties\": \"copy=True\", \"primary_metric\": 0.33831345, \"best_metric\": 0.92832072}, {\"run_id\": \"AutoML_2531e0e0-ceba-4864-b453-a94fe7cc18c5_17\", \"run_number\": 22, \"metric\": null, \"status\": \"Canceled\", \"run_type\": \"azureml.scriptrun\", \"training_percent\": \"100\", \"start_time\": \"2021-10-03T21:47:12.129177Z\", \"end_time\": \"2021-10-03T22:06:56.171284Z\", \"created_time\": \"2021-10-03T21:47:04.100065Z\", \"created_time_dt\": \"2021-10-03T21:47:04.100065Z\", \"duration\": \"0:19:52\", \"iteration\": \"17\", \"goal\": null, \"run_name\": \"StandardScalerWrapper, ElasticNet\", \"run_properties\": null}, {\"run_id\": \"AutoML_2531e0e0-ceba-4864-b453-a94fe7cc18c5_18\", \"run_number\": 23, \"metric\": null, \"status\": \"Completed\", \"run_type\": \"azureml.scriptrun\", \"training_percent\": \"100\", \"start_time\": \"2021-10-03T21:47:46.536087Z\", \"end_time\": \"2021-10-03T21:51:17.062116Z\", \"created_time\": \"2021-10-03T21:47:38.362246Z\", \"created_time_dt\": \"2021-10-03T21:47:38.362246Z\", \"duration\": \"0:03:38\", \"iteration\": \"18\", \"goal\": \"r2_score_max\", \"run_name\": \"StandardScalerWrapper, XGBoostRegressor\", \"run_properties\": \"\\n    copy=True,\\n    with_mean=False,\\n    with_std=False\\n\", \"primary_metric\": 0.86057896, \"best_metric\": 0.92832072}, {\"run_id\": \"AutoML_2531e0e0-ceba-4864-b453-a94fe7cc18c5_19\", \"run_number\": 24, \"metric\": null, \"status\": \"Completed\", \"run_type\": \"azureml.scriptrun\", \"training_percent\": \"100\", \"start_time\": \"2021-10-03T21:49:00.208982Z\", \"end_time\": \"2021-10-03T21:50:26.681917Z\", \"created_time\": \"2021-10-03T21:48:48.702423Z\", \"created_time_dt\": \"2021-10-03T21:48:48.702423Z\", \"duration\": \"0:01:37\", \"iteration\": \"19\", \"goal\": \"r2_score_max\", \"run_name\": \"StandardScalerWrapper, ExtremeRandomTrees\", \"run_properties\": \"\\n    copy=True,\\n    with_mean=False,\\n    with_std=False\\n\", \"primary_metric\": 0.34182368, \"best_metric\": 0.92832072}, {\"run_id\": \"AutoML_2531e0e0-ceba-4864-b453-a94fe7cc18c5_20\", \"run_number\": 25, \"metric\": null, \"status\": \"Canceled\", \"run_type\": \"azureml.scriptrun\", \"training_percent\": \"100\", \"start_time\": \"2021-10-03T21:50:43.244497Z\", \"end_time\": \"2021-10-03T22:06:57.421531Z\", \"created_time\": \"2021-10-03T21:50:30.371729Z\", \"created_time_dt\": \"2021-10-03T21:50:30.371729Z\", \"duration\": \"0:16:27\", \"iteration\": \"20\", \"goal\": null, \"run_name\": \"StandardScalerWrapper, ElasticNet\", \"run_properties\": null}, {\"run_id\": \"AutoML_2531e0e0-ceba-4864-b453-a94fe7cc18c5_21\", \"run_number\": 26, \"metric\": null, \"status\": \"Completed\", \"run_type\": \"azureml.scriptrun\", \"training_percent\": \"100\", \"start_time\": \"2021-10-03T21:50:57.415804Z\", \"end_time\": \"2021-10-03T21:51:56.494414Z\", \"created_time\": \"2021-10-03T21:50:44.512701Z\", \"created_time_dt\": \"2021-10-03T21:50:44.512701Z\", \"duration\": \"0:01:11\", \"iteration\": \"21\", \"goal\": \"r2_score_max\", \"run_name\": \"MaxAbsScaler, DecisionTree\", \"run_properties\": \"copy=True\", \"primary_metric\": 0.38948567, \"best_metric\": 0.92832072}, {\"run_id\": \"AutoML_2531e0e0-ceba-4864-b453-a94fe7cc18c5_22\", \"run_number\": 27, \"metric\": null, \"status\": \"Completed\", \"run_type\": \"azureml.scriptrun\", \"training_percent\": \"100\", \"start_time\": \"2021-10-03T21:51:33.541048Z\", \"end_time\": \"2021-10-03T21:57:17.010497Z\", \"created_time\": \"2021-10-03T21:51:20.809451Z\", \"created_time_dt\": \"2021-10-03T21:51:20.809451Z\", \"duration\": \"0:05:56\", \"iteration\": \"22\", \"goal\": \"r2_score_max\", \"run_name\": \"SparseNormalizer, ExtremeRandomTrees\", \"run_properties\": \"copy=True, norm='l1'\", \"primary_metric\": 0.41780648, \"best_metric\": 0.92832072}, {\"run_id\": \"AutoML_2531e0e0-ceba-4864-b453-a94fe7cc18c5_23\", \"run_number\": 28, \"metric\": null, \"status\": \"Completed\", \"run_type\": \"azureml.scriptrun\", \"training_percent\": \"100\", \"start_time\": \"2021-10-03T21:52:13.245214Z\", \"end_time\": \"2021-10-03T21:53:09.280334Z\", \"created_time\": \"2021-10-03T21:51:59.84736Z\", \"created_time_dt\": \"2021-10-03T21:51:59.84736Z\", \"duration\": \"0:01:09\", \"iteration\": \"23\", \"goal\": \"r2_score_max\", \"run_name\": \"StandardScalerWrapper, LightGBM\", \"run_properties\": \"\\n    copy=True,\\n    with_mean=False,\\n    with_std=True\\n\", \"primary_metric\": 0.49214219, \"best_metric\": 0.92832072}, {\"run_id\": \"AutoML_2531e0e0-ceba-4864-b453-a94fe7cc18c5_24\", \"run_number\": 29, \"metric\": null, \"status\": \"Canceled\", \"run_type\": \"azureml.scriptrun\", \"training_percent\": \"100\", \"start_time\": \"2021-10-03T21:53:27.764907Z\", \"end_time\": \"2021-10-03T22:06:57.463347Z\", \"created_time\": \"2021-10-03T21:53:12.752059Z\", \"created_time_dt\": \"2021-10-03T21:53:12.752059Z\", \"duration\": \"0:13:44\", \"iteration\": \"24\", \"goal\": null, \"run_name\": \"StandardScalerWrapper, ExtremeRandomTrees\", \"run_properties\": null}, {\"run_id\": \"AutoML_2531e0e0-ceba-4864-b453-a94fe7cc18c5_25\", \"run_number\": 30, \"metric\": null, \"status\": \"Completed\", \"run_type\": \"azureml.scriptrun\", \"training_percent\": \"100\", \"start_time\": \"2021-10-03T21:57:35.037771Z\", \"end_time\": \"2021-10-03T21:58:50.756526Z\", \"created_time\": \"2021-10-03T21:57:23.319502Z\", \"created_time_dt\": \"2021-10-03T21:57:23.319502Z\", \"duration\": \"0:01:27\", \"iteration\": \"25\", \"goal\": \"r2_score_max\", \"run_name\": \"StandardScalerWrapper, XGBoostRegressor\", \"run_properties\": \"\\n    copy=True,\\n    with_mean=False,\\n    with_std=False\\n\", \"primary_metric\": -5.321e-05, \"best_metric\": 0.92832072}, {\"run_id\": \"AutoML_2531e0e0-ceba-4864-b453-a94fe7cc18c5_26\", \"run_number\": 31, \"metric\": null, \"status\": \"Completed\", \"run_type\": \"azureml.scriptrun\", \"training_percent\": \"100\", \"start_time\": \"2021-10-03T21:59:05.561348Z\", \"end_time\": \"2021-10-03T22:00:14.419755Z\", \"created_time\": \"2021-10-03T21:58:53.218374Z\", \"created_time_dt\": \"2021-10-03T21:58:53.218374Z\", \"duration\": \"0:01:21\", \"iteration\": \"26\", \"goal\": \"r2_score_max\", \"run_name\": \"MaxAbsScaler, DecisionTree\", \"run_properties\": \"copy=True\", \"primary_metric\": 0.51304526, \"best_metric\": 0.92832072}, {\"run_id\": \"AutoML_2531e0e0-ceba-4864-b453-a94fe7cc18c5_27\", \"run_number\": 32, \"metric\": null, \"status\": \"Completed\", \"run_type\": \"azureml.scriptrun\", \"training_percent\": \"100\", \"start_time\": \"2021-10-03T22:00:30.353907Z\", \"end_time\": \"2021-10-03T22:02:37.117092Z\", \"created_time\": \"2021-10-03T22:00:16.774094Z\", \"created_time_dt\": \"2021-10-03T22:00:16.774094Z\", \"duration\": \"0:02:20\", \"iteration\": \"27\", \"goal\": \"r2_score_max\", \"run_name\": \"SparseNormalizer, XGBoostRegressor\", \"run_properties\": \"copy=True, norm='l2'\", \"primary_metric\": 0.82798537, \"best_metric\": 0.92832072}, {\"run_id\": \"AutoML_2531e0e0-ceba-4864-b453-a94fe7cc18c5_28\", \"run_number\": 33, \"metric\": null, \"status\": \"Completed\", \"run_type\": \"azureml.scriptrun\", \"training_percent\": \"100\", \"start_time\": \"2021-10-03T22:02:52.872857Z\", \"end_time\": \"2021-10-03T22:03:54.939726Z\", \"created_time\": \"2021-10-03T22:02:39.477222Z\", \"created_time_dt\": \"2021-10-03T22:02:39.477222Z\", \"duration\": \"0:01:15\", \"iteration\": \"28\", \"goal\": \"r2_score_max\", \"run_name\": \"StandardScalerWrapper, DecisionTree\", \"run_properties\": \"\\n    copy=True,\\n    with_mean=False,\\n    with_std=True\\n\", \"primary_metric\": 0.50090329, \"best_metric\": 0.92832072}, {\"run_id\": \"AutoML_2531e0e0-ceba-4864-b453-a94fe7cc18c5_29\", \"run_number\": 34, \"metric\": null, \"status\": \"Canceled\", \"run_type\": \"azureml.scriptrun\", \"training_percent\": \"100\", \"start_time\": \"2021-10-03T22:04:11.595066Z\", \"end_time\": \"2021-10-03T22:06:57.63629Z\", \"created_time\": \"2021-10-03T22:03:57.041341Z\", \"created_time_dt\": \"2021-10-03T22:03:57.041341Z\", \"duration\": \"0:03:00\", \"iteration\": \"29\", \"goal\": null, \"run_name\": \"StandardScalerWrapper, LightGBM\", \"run_properties\": null}, {\"run_id\": \"AutoML_2531e0e0-ceba-4864-b453-a94fe7cc18c5_30\", \"run_number\": 35, \"metric\": null, \"status\": \"Canceled\", \"run_type\": \"azureml.scriptrun\", \"training_percent\": \"100\", \"start_time\": \"2021-10-03T22:06:35.919921Z\", \"end_time\": \"2021-10-03T22:06:57.445741Z\", \"created_time\": \"2021-10-03T22:06:30.844581Z\", \"created_time_dt\": \"2021-10-03T22:06:30.844581Z\", \"duration\": \"0:00:26\", \"iteration\": \"30\", \"goal\": null, \"run_name\": \"SparseNormalizer, XGBoostRegressor\", \"run_properties\": null}, {\"run_id\": \"AutoML_2531e0e0-ceba-4864-b453-a94fe7cc18c5_31\", \"run_number\": 36, \"metric\": null, \"status\": \"Completed\", \"run_type\": \"azureml.scriptrun\", \"training_percent\": \"100\", \"start_time\": \"2021-10-03T22:07:04.110675Z\", \"end_time\": \"2021-10-03T22:09:36.500917Z\", \"created_time\": \"2021-10-03T22:06:59.003114Z\", \"created_time_dt\": \"2021-10-03T22:06:59.003114Z\", \"duration\": \"0:02:37\", \"iteration\": \"31\", \"goal\": \"r2_score_max\", \"run_name\": \"VotingEnsemble\", \"run_properties\": \"\\n    estimators=[('14', Pipeline(\\n        memory=None,\\n        steps=[('standardscalerwrapper', StandardScalerWrapper(\\n            copy=True,\\n            with_mean=False,\\n            with_std=False\\n        \", \"primary_metric\": 0.92893504, \"best_metric\": 0.92893504}, {\"run_id\": \"AutoML_2531e0e0-ceba-4864-b453-a94fe7cc18c5_32\", \"run_number\": 37, \"metric\": null, \"status\": \"Completed\", \"run_type\": \"azureml.scriptrun\", \"training_percent\": \"100\", \"start_time\": \"2021-10-03T22:07:07.265513Z\", \"end_time\": \"2021-10-03T22:09:31.389685Z\", \"created_time\": \"2021-10-03T22:06:59.031603Z\", \"created_time_dt\": \"2021-10-03T22:06:59.031603Z\", \"duration\": \"0:02:32\", \"iteration\": \"32\", \"goal\": \"r2_score_max\", \"run_name\": \"StackEnsemble\", \"run_properties\": \"\\n    base_learners=[('14', Pipeline(\\n        memory=None,\\n        steps=[('standardscalerwrapper', StandardScalerWrapper(\\n            copy=True,\\n            with_mean=False,\\n            with_std=False\\n        \", \"primary_metric\": 0.93142215, \"best_metric\": 0.93142215}], \"children_metrics\": {\"categories\": [0], \"series\": {\"mean_absolute_percentage_error\": [{\"categories\": [\"0\", \"1\", \"2\", \"4\", \"5\", \"6\", \"7\", \"8\", \"9\", \"10\", \"13\", \"14\", \"16\", \"18\", \"19\", \"21\", \"22\", \"23\", \"25\", \"26\", \"27\", \"28\", \"31\", \"32\"], \"mode\": \"markers\", \"name\": \"mean_absolute_percentage_error\", \"stepped\": false, \"type\": \"scatter\", \"data\": [14.596918642727806, 22.14575677236317, 13.982776740077167, 21.298280361394553, 31.972628572537864, 62.58559307427133, 32.01736190927945, 42.87100383238352, 27.050396045417905, 29.466996685167025, 32.478663522524, 13.931922429944034, 39.6512913305413, 20.627892772957242, 39.73359287511025, 31.85343378057817, 31.62817712767255, 26.44758470717529, 70.50903625380225, 24.035140397173613, 25.63639145831341, 25.03397194055765, 13.779062855649688, 13.3409419134471]}, {\"categories\": [\"0\", \"1\", \"2\", \"4\", \"5\", \"6\", \"7\", \"8\", \"9\", \"10\", \"13\", \"14\", \"16\", \"18\", \"19\", \"21\", \"22\", \"23\", \"25\", \"26\", \"27\", \"28\", \"31\", \"32\"], \"mode\": \"lines\", \"name\": \"mean_absolute_percentage_error_min\", \"stepped\": true, \"type\": \"scatter\", \"data\": [14.596918642727806, 14.596918642727806, 13.982776740077167, 13.982776740077167, 13.982776740077167, 13.982776740077167, 13.982776740077167, 13.982776740077167, 13.982776740077167, 13.982776740077167, 13.982776740077167, 13.931922429944034, 13.931922429944034, 13.931922429944034, 13.931922429944034, 13.931922429944034, 13.931922429944034, 13.931922429944034, 13.931922429944034, 13.931922429944034, 13.931922429944034, 13.931922429944034, 13.779062855649688, 13.3409419134471]}], \"root_mean_squared_error\": [{\"categories\": [\"0\", \"1\", \"2\", \"4\", \"5\", \"6\", \"7\", \"8\", \"9\", \"10\", \"13\", \"14\", \"16\", \"18\", \"19\", \"21\", \"22\", \"23\", \"25\", \"26\", \"27\", \"28\", \"31\", \"32\"], \"mode\": \"markers\", \"name\": \"root_mean_squared_error\", \"stepped\": false, \"type\": \"scatter\", \"data\": [6841.982013692279, 8478.716930817634, 5661.86344475009, 13829.042268611214, 10993.348680575928, 19318.264180880746, 16210.796230451477, 17097.71559617582, 9075.029923919989, 15157.534804623914, 16354.49741535497, 5520.69799442162, 16788.52600054789, 7701.596991486161, 16742.162840460616, 16126.405934822018, 15747.759159873045, 14708.68269940231, 20635.56910132313, 14402.311496478578, 8554.489362192302, 14581.271225960878, 5495.267953100954, 5399.251436399655]}, {\"categories\": [\"0\", \"1\", \"2\", \"4\", \"5\", \"6\", \"7\", \"8\", \"9\", \"10\", \"13\", \"14\", \"16\", \"18\", \"19\", \"21\", \"22\", \"23\", \"25\", \"26\", \"27\", \"28\", \"31\", \"32\"], \"mode\": \"lines\", \"name\": \"root_mean_squared_error_min\", \"stepped\": true, \"type\": \"scatter\", \"data\": [6841.982013692279, 6841.982013692279, 5661.86344475009, 5661.86344475009, 5661.86344475009, 5661.86344475009, 5661.86344475009, 5661.86344475009, 5661.86344475009, 5661.86344475009, 5661.86344475009, 5520.69799442162, 5520.69799442162, 5520.69799442162, 5520.69799442162, 5520.69799442162, 5520.69799442162, 5520.69799442162, 5520.69799442162, 5520.69799442162, 5520.69799442162, 5520.69799442162, 5495.267953100954, 5399.251436399655]}], \"median_absolute_error\": [{\"categories\": [\"0\", \"1\", \"2\", \"4\", \"5\", \"6\", \"7\", \"8\", \"9\", \"10\", \"13\", \"14\", \"16\", \"18\", \"19\", \"21\", \"22\", \"23\", \"25\", \"26\", \"27\", \"28\", \"31\", \"32\"], \"mode\": \"markers\", \"name\": \"median_absolute_error\", \"stepped\": false, \"type\": \"scatter\", \"data\": [2121.266521908916, 3268.3064453125, 2064.103125, 2893.728356573709, 4421.78359375, 8166.419326689598, 4537.6337896235, 5226.968649428376, 3823.8923828125, 3719.975571198526, 4638.821869937508, 2037.1330078125, 5257.040707473321, 3049.2, 4870.050042047496, 4387.2086175825725, 4339.275420123187, 3674.5802027743002, 9884.6421875, 3347.7602744451797, 3621.68603515625, 3502.0852605679274, 2025.368506063019, 2016.4260236102189]}, {\"categories\": [\"0\", \"1\", \"2\", \"4\", \"5\", \"6\", \"7\", \"8\", \"9\", \"10\", \"13\", \"14\", \"16\", \"18\", \"19\", \"21\", \"22\", \"23\", \"25\", \"26\", \"27\", \"28\", \"31\", \"32\"], \"mode\": \"lines\", \"name\": \"median_absolute_error_min\", \"stepped\": true, \"type\": \"scatter\", \"data\": [2121.266521908916, 2121.266521908916, 2064.103125, 2064.103125, 2064.103125, 2064.103125, 2064.103125, 2064.103125, 2064.103125, 2064.103125, 2064.103125, 2037.1330078125, 2037.1330078125, 2037.1330078125, 2037.1330078125, 2037.1330078125, 2037.1330078125, 2037.1330078125, 2037.1330078125, 2037.1330078125, 2037.1330078125, 2037.1330078125, 2025.368506063019, 2016.4260236102189]}], \"normalized_root_mean_squared_error\": [{\"categories\": [\"0\", \"1\", \"2\", \"4\", \"5\", \"6\", \"7\", \"8\", \"9\", \"10\", \"13\", \"14\", \"16\", \"18\", \"19\", \"21\", \"22\", \"23\", \"25\", \"26\", \"27\", \"28\", \"31\", \"32\"], \"mode\": \"markers\", \"name\": \"normalized_root_mean_squared_error\", \"stepped\": false, \"type\": \"scatter\", \"data\": [0.00530843798195986, 0.006578319396889129, 0.004392828115980667, 0.010729436745947837, 0.008529328134466243, 0.014988318752972133, 0.012577350576971371, 0.013265478145638585, 0.007040976348542299, 0.011760164424390571, 0.012688842952494686, 0.004283303122087892, 0.013025589500831639, 0.0059753810971055355, 0.012989618058714658, 0.012511875302448325, 0.012218097429623865, 0.011411916861203075, 0.016010366378865448, 0.01117421490189883, 0.00663710839281016, 0.011313063063633829, 0.004263572904007916, 0.004189077279328891]}, {\"categories\": [\"0\", \"1\", \"2\", \"4\", \"5\", \"6\", \"7\", \"8\", \"9\", \"10\", \"13\", \"14\", \"16\", \"18\", \"19\", \"21\", \"22\", \"23\", \"25\", \"26\", \"27\", \"28\", \"31\", \"32\"], \"mode\": \"lines\", \"name\": \"normalized_root_mean_squared_error_min\", \"stepped\": true, \"type\": \"scatter\", \"data\": [0.00530843798195986, 0.00530843798195986, 0.004392828115980667, 0.004392828115980667, 0.004392828115980667, 0.004392828115980667, 0.004392828115980667, 0.004392828115980667, 0.004392828115980667, 0.004392828115980667, 0.004392828115980667, 0.004283303122087892, 0.004283303122087892, 0.004283303122087892, 0.004283303122087892, 0.004283303122087892, 0.004283303122087892, 0.004283303122087892, 0.004283303122087892, 0.004283303122087892, 0.004283303122087892, 0.004283303122087892, 0.004263572904007916, 0.004189077279328891]}], \"root_mean_squared_log_error\": [{\"categories\": [\"0\", \"1\", \"2\", \"4\", \"5\", \"6\", \"7\", \"8\", \"9\", \"10\", \"13\", \"14\", \"16\", \"18\", \"19\", \"21\", \"22\", \"23\", \"25\", \"26\", \"27\", \"28\", \"31\", \"32\"], \"mode\": \"markers\", \"name\": \"root_mean_squared_log_error\", \"stepped\": false, \"type\": \"scatter\", \"data\": [0.20546482221855406, 0.2767745397869249, 0.19476103547614948, 0.2807596288865174, 0.36739393089503286, 0.5928612282611841, 0.3788192121245402, 0.4641468017723601, 0.3241653201939671, 0.3570567704804799, 0.3826020251962661, 0.19470754830536988, 0.43691802554000747, 0.261049327488334, 0.440408160226767, 0.3800920978034205, 0.3735184166247173, 0.3291495654459503, 0.6487568815631288, 0.3098191330708425, 0.3121618593236703, 0.31815051771521907, 0.19251069238934668, 0.19012472615244438]}, {\"categories\": [\"0\", \"1\", \"2\", \"4\", \"5\", \"6\", \"7\", \"8\", \"9\", \"10\", \"13\", \"14\", \"16\", \"18\", \"19\", \"21\", \"22\", \"23\", \"25\", \"26\", \"27\", \"28\", \"31\", \"32\"], \"mode\": \"lines\", \"name\": \"root_mean_squared_log_error_min\", \"stepped\": true, \"type\": \"scatter\", \"data\": [0.20546482221855406, 0.20546482221855406, 0.19476103547614948, 0.19476103547614948, 0.19476103547614948, 0.19476103547614948, 0.19476103547614948, 0.19476103547614948, 0.19476103547614948, 0.19476103547614948, 0.19476103547614948, 0.19470754830536988, 0.19470754830536988, 0.19470754830536988, 0.19470754830536988, 0.19470754830536988, 0.19470754830536988, 0.19470754830536988, 0.19470754830536988, 0.19470754830536988, 0.19470754830536988, 0.19470754830536988, 0.19251069238934668, 0.19012472615244438]}], \"normalized_median_absolute_error\": [{\"categories\": [\"0\", \"1\", \"2\", \"4\", \"5\", \"6\", \"7\", \"8\", \"9\", \"10\", \"13\", \"14\", \"16\", \"18\", \"19\", \"21\", \"22\", \"23\", \"25\", \"26\", \"27\", \"28\", \"31\", \"32\"], \"mode\": \"markers\", \"name\": \"normalized_median_absolute_error\", \"stepped\": false, \"type\": \"scatter\", \"data\": [0.0016458113675578607, 0.00253575674947125, 0.0016014604255761556, 0.0022451356181248552, 0.003430696533562265, 0.006336019364513906, 0.00352058036821159, 0.004055409507597538, 0.0029668151017097685, 0.0028861899336470862, 0.0035990884157021457, 0.001580535320223712, 0.004078741292861228, 0.00236576025224845, 0.0037784897074435455, 0.003403871102518273, 0.0033666815271173193, 0.0028509693648899677, 0.007669124227628778, 0.0025974020042433318, 0.002809930758263131, 0.002717136989845454, 0.0015714076832610893, 0.0015644695455386496]}, {\"categories\": [\"0\", \"1\", \"2\", \"4\", \"5\", \"6\", \"7\", \"8\", \"9\", \"10\", \"13\", \"14\", \"16\", \"18\", \"19\", \"21\", \"22\", \"23\", \"25\", \"26\", \"27\", \"28\", \"31\", \"32\"], \"mode\": \"lines\", \"name\": \"normalized_median_absolute_error_min\", \"stepped\": true, \"type\": \"scatter\", \"data\": [0.0016458113675578607, 0.0016458113675578607, 0.0016014604255761556, 0.0016014604255761556, 0.0016014604255761556, 0.0016014604255761556, 0.0016014604255761556, 0.0016014604255761556, 0.0016014604255761556, 0.0016014604255761556, 0.0016014604255761556, 0.001580535320223712, 0.001580535320223712, 0.001580535320223712, 0.001580535320223712, 0.001580535320223712, 0.001580535320223712, 0.001580535320223712, 0.001580535320223712, 0.001580535320223712, 0.001580535320223712, 0.001580535320223712, 0.0015714076832610893, 0.0015644695455386496]}], \"spearman_correlation\": [{\"categories\": [\"0\", \"1\", \"2\", \"4\", \"5\", \"6\", \"7\", \"8\", \"9\", \"10\", \"13\", \"14\", \"16\", \"18\", \"19\", \"21\", \"22\", \"23\", \"25\", \"26\", \"27\", \"28\", \"31\", \"32\"], \"mode\": \"markers\", \"name\": \"spearman_correlation\", \"stepped\": false, \"type\": \"scatter\", \"data\": [0.9537331909395463, 0.911005135863874, 0.9580212368705286, 0.9129267223215407, 0.8454350543326781, 0.7247152636643583, 0.8461662486342567, 0.744743409621791, 0.875850560313056, 0.8670713924595626, 0.84347442183313, 0.9589090599439709, 0.8308567216366887, 0.922549914914352, 0.7711388724451921, 0.8145152958650191, 0.8361166483012159, 0.8764774371965144, -1.0, 0.8859781525576352, 0.882820330079972, 0.8790093250895022, 0.9596758094318562, 0.9595336102582692]}, {\"categories\": [\"0\", \"1\", \"2\", \"4\", \"5\", \"6\", \"7\", \"8\", \"9\", \"10\", \"13\", \"14\", \"16\", \"18\", \"19\", \"21\", \"22\", \"23\", \"25\", \"26\", \"27\", \"28\", \"31\", \"32\"], \"mode\": \"lines\", \"name\": \"spearman_correlation_max\", \"stepped\": true, \"type\": \"scatter\", \"data\": [0.9537331909395463, 0.9537331909395463, 0.9580212368705286, 0.9580212368705286, 0.9580212368705286, 0.9580212368705286, 0.9580212368705286, 0.9580212368705286, 0.9580212368705286, 0.9580212368705286, 0.9580212368705286, 0.9589090599439709, 0.9589090599439709, 0.9589090599439709, 0.9589090599439709, 0.9589090599439709, 0.9589090599439709, 0.9589090599439709, 0.9589090599439709, 0.9589090599439709, 0.9589090599439709, 0.9589090599439709, 0.9596758094318562, 0.9596758094318562]}], \"r2_score\": [{\"categories\": [\"0\", \"1\", \"2\", \"4\", \"5\", \"6\", \"7\", \"8\", \"9\", \"10\", \"13\", \"14\", \"16\", \"18\", \"19\", \"21\", \"22\", \"23\", \"25\", \"26\", \"27\", \"28\", \"31\", \"32\"], \"mode\": \"markers\", \"name\": \"r2_score\", \"stepped\": false, \"type\": \"scatter\", \"data\": [0.8897589043440728, 0.831119382321981, 0.9245098603697608, 0.5510721098923839, 0.7160740284792437, 0.12370445798320769, 0.3830792210792405, 0.3137096247341387, 0.8063821314072067, 0.46068608062500493, 0.37208662712687746, 0.92832072404946, 0.3383134525993029, 0.8605789577932524, 0.3418236768336881, 0.3894856689009847, 0.4178064827581277, 0.4921421850918599, -5.321339482367016e-05, 0.5130452582409875, 0.827985367383276, 0.5009032921196273, 0.9289350415626622, 0.9314221470425508]}, {\"categories\": [\"0\", \"1\", \"2\", \"4\", \"5\", \"6\", \"7\", \"8\", \"9\", \"10\", \"13\", \"14\", \"16\", \"18\", \"19\", \"21\", \"22\", \"23\", \"25\", \"26\", \"27\", \"28\", \"31\", \"32\"], \"mode\": \"lines\", \"name\": \"r2_score_max\", \"stepped\": true, \"type\": \"scatter\", \"data\": [0.8897589043440728, 0.8897589043440728, 0.9245098603697608, 0.9245098603697608, 0.9245098603697608, 0.9245098603697608, 0.9245098603697608, 0.9245098603697608, 0.9245098603697608, 0.9245098603697608, 0.9245098603697608, 0.92832072404946, 0.92832072404946, 0.92832072404946, 0.92832072404946, 0.92832072404946, 0.92832072404946, 0.92832072404946, 0.92832072404946, 0.92832072404946, 0.92832072404946, 0.92832072404946, 0.9289350415626622, 0.9314221470425508]}], \"mean_absolute_error\": [{\"categories\": [\"0\", \"1\", \"2\", \"4\", \"5\", \"6\", \"7\", \"8\", \"9\", \"10\", \"13\", \"14\", \"16\", \"18\", \"19\", \"21\", \"22\", \"23\", \"25\", \"26\", \"27\", \"28\", \"31\", \"32\"], \"mode\": \"markers\", \"name\": \"mean_absolute_error\", \"stepped\": false, \"type\": \"scatter\", \"data\": [3272.7479335981825, 4839.8174932980855, 3077.498017503158, 5177.50201289963, 6355.64366884249, 10797.305281379313, 7156.84850516266, 8111.009294487577, 5497.42824384468, 6136.7410998751975, 7291.211359960008, 3044.138652484239, 7722.629490928979, 4455.490748899609, 7732.49088981875, 7266.439838865549, 6954.8554205290975, 6076.799213852937, 12245.63133669355, 5856.451661935809, 5226.96343411795, 6076.436671393058, 3018.3541604041484, 3002.948188520272]}, {\"categories\": [\"0\", \"1\", \"2\", \"4\", \"5\", \"6\", \"7\", \"8\", \"9\", \"10\", \"13\", \"14\", \"16\", \"18\", \"19\", \"21\", \"22\", \"23\", \"25\", \"26\", \"27\", \"28\", \"31\", \"32\"], \"mode\": \"lines\", \"name\": \"mean_absolute_error_min\", \"stepped\": true, \"type\": \"scatter\", \"data\": [3272.7479335981825, 3272.7479335981825, 3077.498017503158, 3077.498017503158, 3077.498017503158, 3077.498017503158, 3077.498017503158, 3077.498017503158, 3077.498017503158, 3077.498017503158, 3077.498017503158, 3044.138652484239, 3044.138652484239, 3044.138652484239, 3044.138652484239, 3044.138652484239, 3044.138652484239, 3044.138652484239, 3044.138652484239, 3044.138652484239, 3044.138652484239, 3044.138652484239, 3018.3541604041484, 3002.948188520272]}], \"normalized_mean_absolute_error\": [{\"categories\": [\"0\", \"1\", \"2\", \"4\", \"5\", \"6\", \"7\", \"8\", \"9\", \"10\", \"13\", \"14\", \"16\", \"18\", \"19\", \"21\", \"22\", \"23\", \"25\", \"26\", \"27\", \"28\", \"31\", \"32\"], \"mode\": \"markers\", \"name\": \"normalized_mean_absolute_error\", \"stepped\": false, \"type\": \"scatter\", \"data\": [0.0025392027341384067, 0.003755033403443965, 0.0023877156257977095, 0.004017030194167088, 0.004931106247278654, 0.00837722539226008, 0.005552731117958008, 0.006293028792639528, 0.004265248992809832, 0.004761267930087949, 0.0056569782323677535, 0.002361833341984904, 0.005991699426892779, 0.003456848654731527, 0.005999350517514905, 0.005637758935505295, 0.0053960122373154975, 0.004714761262307459, 0.009500927417039767, 0.004543801836882498, 0.00405540546123321, 0.0047144799791704614, 0.0023418281188157144, 0.002329875201352074]}, {\"categories\": [\"0\", \"1\", \"2\", \"4\", \"5\", \"6\", \"7\", \"8\", \"9\", \"10\", \"13\", \"14\", \"16\", \"18\", \"19\", \"21\", \"22\", \"23\", \"25\", \"26\", \"27\", \"28\", \"31\", \"32\"], \"mode\": \"lines\", \"name\": \"normalized_mean_absolute_error_min\", \"stepped\": true, \"type\": \"scatter\", \"data\": [0.0025392027341384067, 0.0025392027341384067, 0.0023877156257977095, 0.0023877156257977095, 0.0023877156257977095, 0.0023877156257977095, 0.0023877156257977095, 0.0023877156257977095, 0.0023877156257977095, 0.0023877156257977095, 0.0023877156257977095, 0.002361833341984904, 0.002361833341984904, 0.002361833341984904, 0.002361833341984904, 0.002361833341984904, 0.002361833341984904, 0.002361833341984904, 0.002361833341984904, 0.002361833341984904, 0.002361833341984904, 0.002361833341984904, 0.0023418281188157144, 0.002329875201352074]}], \"normalized_root_mean_squared_log_error\": [{\"categories\": [\"0\", \"1\", \"2\", \"4\", \"5\", \"6\", \"7\", \"8\", \"9\", \"10\", \"13\", \"14\", \"16\", \"18\", \"19\", \"21\", \"22\", \"23\", \"25\", \"26\", \"27\", \"28\", \"31\", \"32\"], \"mode\": \"markers\", \"name\": \"normalized_root_mean_squared_log_error\", \"stepped\": false, \"type\": \"scatter\", \"data\": [0.014603779238747751, 0.019672244787746727, 0.013842988477016104, 0.01995549211363341, 0.026113179874361486, 0.04213867076248019, 0.026925252145491445, 0.03299006299114429, 0.02304062915419678, 0.025378447733746805, 0.027194122341393744, 0.0138391867808146, 0.031054729084615196, 0.01855454723538039, 0.03130279664152631, 0.027015724768735726, 0.026548488637104507, 0.023394893288299072, 0.04611155416126896, 0.02202094827938006, 0.02218746173235802, 0.02261311632442938, 0.013683041322577407, 0.013513454510496441]}, {\"categories\": [\"0\", \"1\", \"2\", \"4\", \"5\", \"6\", \"7\", \"8\", \"9\", \"10\", \"13\", \"14\", \"16\", \"18\", \"19\", \"21\", \"22\", \"23\", \"25\", \"26\", \"27\", \"28\", \"31\", \"32\"], \"mode\": \"lines\", \"name\": \"normalized_root_mean_squared_log_error_min\", \"stepped\": true, \"type\": \"scatter\", \"data\": [0.014603779238747751, 0.014603779238747751, 0.013842988477016104, 0.013842988477016104, 0.013842988477016104, 0.013842988477016104, 0.013842988477016104, 0.013842988477016104, 0.013842988477016104, 0.013842988477016104, 0.013842988477016104, 0.0138391867808146, 0.0138391867808146, 0.0138391867808146, 0.0138391867808146, 0.0138391867808146, 0.0138391867808146, 0.0138391867808146, 0.0138391867808146, 0.0138391867808146, 0.0138391867808146, 0.0138391867808146, 0.013683041322577407, 0.013513454510496441]}], \"explained_variance\": [{\"categories\": [\"0\", \"1\", \"2\", \"4\", \"5\", \"6\", \"7\", \"8\", \"9\", \"10\", \"13\", \"14\", \"16\", \"18\", \"19\", \"21\", \"22\", \"23\", \"25\", \"26\", \"27\", \"28\", \"31\", \"32\"], \"mode\": \"markers\", \"name\": \"explained_variance\", \"stepped\": false, \"type\": \"scatter\", \"data\": [0.889761855253434, 0.8311212365640397, 0.9245126235361212, 0.5510727227239706, 0.7160779878332366, 0.12371349556692852, 0.3830836380715946, 0.3137123513507161, 0.8063866394627468, 0.4606866626229202, 0.3720923264135164, 0.9283224641611957, 0.33831912751830684, 0.8606378836947188, 0.3418254065966221, 0.3894869302557894, 0.4178105644625192, 0.4921445211374632, 0.0, 0.5130455646265073, 0.8279904864198777, 0.5009035670106183, 0.9289371129469931, 0.9314249913906678]}, {\"categories\": [\"0\", \"1\", \"2\", \"4\", \"5\", \"6\", \"7\", \"8\", \"9\", \"10\", \"13\", \"14\", \"16\", \"18\", \"19\", \"21\", \"22\", \"23\", \"25\", \"26\", \"27\", \"28\", \"31\", \"32\"], \"mode\": \"lines\", \"name\": \"explained_variance_max\", \"stepped\": true, \"type\": \"scatter\", \"data\": [0.889761855253434, 0.889761855253434, 0.9245126235361212, 0.9245126235361212, 0.9245126235361212, 0.9245126235361212, 0.9245126235361212, 0.9245126235361212, 0.9245126235361212, 0.9245126235361212, 0.9245126235361212, 0.9283224641611957, 0.9283224641611957, 0.9283224641611957, 0.9283224641611957, 0.9283224641611957, 0.9283224641611957, 0.9283224641611957, 0.9283224641611957, 0.9283224641611957, 0.9283224641611957, 0.9283224641611957, 0.9289371129469931, 0.9314249913906678]}]}, \"metricName\": null, \"primaryMetricName\": \"r2_score\", \"showLegend\": false}, \"run_metrics\": [{\"name\": \"experiment_status\", \"run_id\": \"AutoML_2531e0e0-ceba-4864-b453-a94fe7cc18c5\", \"categories\": [0, 1, 2, 3, 4, 5, 6, 7, 8, 9, 10, 11, 12, 13], \"series\": [{\"data\": [\"DatasetEvaluation\", \"FeaturesGeneration\", \"DatasetFeaturization\", \"DatasetFeaturizationCompleted\", \"DatasetCrossValidationSplit\", \"ModelSelection\", \"BestRunExplainModel\", \"ModelExplanationDataSetSetup\", \"PickSurrogateModel\", \"EngineeredFeatureExplanations\", \"EngineeredFeatureExplanations\", \"RawFeaturesExplanations\", \"RawFeaturesExplanations\", \"BestRunExplainModel\"]}]}, {\"name\": \"experiment_status_description\", \"run_id\": \"AutoML_2531e0e0-ceba-4864-b453-a94fe7cc18c5\", \"categories\": [0, 1, 2, 3, 4, 5, 6, 7, 8, 9, 10, 11, 12, 13], \"series\": [{\"data\": [\"Gathering dataset statistics.\", \"Generating features for the dataset.\", \"Beginning to fit featurizers and featurize the dataset.\", \"Completed fit featurizers and featurizing the dataset.\", \"Generating individually featurized CV splits.\", \"Beginning model selection.\", \"Best run model explanations started\", \"Model explanations data setup completed\", \"Choosing LinearModel as the surrogate model for explanations\", \"Computation of engineered features started\", \"Computation of engineered features completed\", \"Computation of raw features started\", \"Computation of raw features completed\", \"Best run model explanations completed\"]}]}, {\"name\": \"mean_absolute_error\", \"run_id\": \"AutoML_2531e0e0-ceba-4864-b453-a94fe7cc18c5\", \"categories\": [0], \"series\": [{\"data\": [3002.948188520272]}]}, {\"name\": \"normalized_root_mean_squared_log_error\", \"run_id\": \"AutoML_2531e0e0-ceba-4864-b453-a94fe7cc18c5\", \"categories\": [0], \"series\": [{\"data\": [0.013513454510496441]}]}, {\"name\": \"normalized_mean_absolute_error\", \"run_id\": \"AutoML_2531e0e0-ceba-4864-b453-a94fe7cc18c5\", \"categories\": [0], \"series\": [{\"data\": [0.002329875201352074]}]}, {\"name\": \"r2_score\", \"run_id\": \"AutoML_2531e0e0-ceba-4864-b453-a94fe7cc18c5\", \"categories\": [0], \"series\": [{\"data\": [0.9314221470425508]}]}, {\"name\": \"spearman_correlation\", \"run_id\": \"AutoML_2531e0e0-ceba-4864-b453-a94fe7cc18c5\", \"categories\": [0], \"series\": [{\"data\": [0.9595336102582692]}]}, {\"name\": \"normalized_root_mean_squared_error\", \"run_id\": \"AutoML_2531e0e0-ceba-4864-b453-a94fe7cc18c5\", \"categories\": [0], \"series\": [{\"data\": [0.004189077279328891]}]}, {\"name\": \"explained_variance\", \"run_id\": \"AutoML_2531e0e0-ceba-4864-b453-a94fe7cc18c5\", \"categories\": [0], \"series\": [{\"data\": [0.9314249913906678]}]}, {\"name\": \"mean_absolute_percentage_error\", \"run_id\": \"AutoML_2531e0e0-ceba-4864-b453-a94fe7cc18c5\", \"categories\": [0], \"series\": [{\"data\": [13.3409419134471]}]}, {\"name\": \"root_mean_squared_error\", \"run_id\": \"AutoML_2531e0e0-ceba-4864-b453-a94fe7cc18c5\", \"categories\": [0], \"series\": [{\"data\": [5399.251436399655]}]}, {\"name\": \"root_mean_squared_log_error\", \"run_id\": \"AutoML_2531e0e0-ceba-4864-b453-a94fe7cc18c5\", \"categories\": [0], \"series\": [{\"data\": [0.19012472615244438]}]}, {\"name\": \"normalized_median_absolute_error\", \"run_id\": \"AutoML_2531e0e0-ceba-4864-b453-a94fe7cc18c5\", \"categories\": [0], \"series\": [{\"data\": [0.0015644695455386496]}]}, {\"name\": \"median_absolute_error\", \"run_id\": \"AutoML_2531e0e0-ceba-4864-b453-a94fe7cc18c5\", \"categories\": [0], \"series\": [{\"data\": [2016.4260236102189]}]}], \"run_logs\": \"\\nRun is completed.\", \"graph\": {}, \"widget_settings\": {\"childWidgetDisplay\": \"popup\", \"send_telemetry\": false, \"log_level\": \"INFO\", \"sdk_version\": \"1.34.0\"}, \"loading\": false}"
     },
     "metadata": {},
     "output_type": "display_data"
    },
    {
     "data": {
      "text/plain": [
       "{'runId': 'AutoML_2531e0e0-ceba-4864-b453-a94fe7cc18c5',\n",
       " 'target': 'PCAP-Clus-DS12v2',\n",
       " 'status': 'Completed',\n",
       " 'startTimeUtc': '2021-10-03T20:57:18.32978Z',\n",
       " 'endTimeUtc': '2021-10-03T22:09:38.370964Z',\n",
       " 'services': {},\n",
       " 'properties': {'num_iterations': '1000',\n",
       "  'training_type': 'TrainFull',\n",
       "  'acquisition_function': 'EI',\n",
       "  'primary_metric': 'r2_score',\n",
       "  'train_split': '0',\n",
       "  'acquisition_parameter': '0',\n",
       "  'num_cross_validation': '5',\n",
       "  'target': 'PCAP-Clus-DS12v2',\n",
       "  'AMLSettingsJsonString': '{\"path\":null,\"name\":\"PCAP_Exp_CarPrices_AutoML\",\"subscription_id\":\"610d6e37-4747-4a20-80eb-3aad70a55f43\",\"resource_group\":\"aml-quickstarts-159929\",\"workspace_name\":\"quick-starts-ws-159929\",\"region\":\"southcentralus\",\"compute_target\":\"PCAP-Clus-DS12v2\",\"spark_service\":null,\"azure_service\":\"remote\",\"many_models\":false,\"pipeline_fetch_max_batch_size\":1,\"enable_batch_run\":false,\"enable_run_restructure\":false,\"start_auxiliary_runs_before_parent_complete\":false,\"enable_code_generation\":false,\"iterations\":1000,\"primary_metric\":\"r2_score\",\"task_type\":\"regression\",\"data_script\":null,\"test_size\":0.0,\"test_include_predictions_only\":false,\"validation_size\":0.0,\"n_cross_validations\":5,\"y_min\":null,\"y_max\":null,\"num_classes\":null,\"featurization\":\"auto\",\"_ignore_package_version_incompatibilities\":false,\"is_timeseries\":false,\"max_cores_per_iteration\":1,\"max_concurrent_iterations\":5,\"iteration_timeout_minutes\":null,\"mem_in_mb\":null,\"enforce_time_on_windows\":false,\"experiment_timeout_minutes\":60,\"experiment_exit_score\":null,\"whitelist_models\":null,\"blacklist_algos\":[\"TensorFlowDNN\",\"TensorFlowLinearRegressor\"],\"supported_models\":[\"KNN\",\"GradientBoosting\",\"TensorFlowDNN\",\"SGD\",\"RandomForest\",\"LassoLars\",\"TensorFlowLinearRegressor\",\"ElasticNet\",\"ExtremeRandomTrees\",\"FastLinearRegressor\",\"OnlineGradientDescentRegressor\",\"LightGBM\",\"XGBoostRegressor\",\"DecisionTree\"],\"private_models\":[],\"auto_blacklist\":true,\"blacklist_samples_reached\":false,\"exclude_nan_labels\":true,\"verbosity\":20,\"_debug_log\":\"azureml_automl.log\",\"show_warnings\":false,\"model_explainability\":true,\"service_url\":null,\"sdk_url\":null,\"sdk_packages\":null,\"enable_onnx_compatible_models\":false,\"enable_split_onnx_featurizer_estimator_models\":false,\"vm_type\":\"STANDARD_DS12_V2\",\"telemetry_verbosity\":20,\"send_telemetry\":true,\"enable_dnn\":false,\"scenario\":\"SDK-1.13.0\",\"environment_label\":null,\"save_mlflow\":false,\"force_text_dnn\":false,\"enable_feature_sweeping\":true,\"enable_early_stopping\":true,\"early_stopping_n_iters\":10,\"metrics\":null,\"enable_metric_confidence\":false,\"enable_ensembling\":true,\"enable_stack_ensembling\":true,\"ensemble_iterations\":15,\"enable_tf\":false,\"enable_subsampling\":null,\"subsample_seed\":null,\"enable_nimbusml\":false,\"enable_streaming\":false,\"force_streaming\":false,\"track_child_runs\":true,\"allowed_private_models\":[],\"label_column_name\":\"price\",\"weight_column_name\":null,\"cv_split_column_names\":null,\"positive_label\":null,\"enable_local_managed\":false,\"_local_managed_run_id\":null,\"cost_mode\":1,\"lag_length\":0,\"metric_operation\":\"maximize\",\"preprocess\":true}',\n",
       "  'DataPrepJsonString': '{\\\\\"training_data\\\\\": {\\\\\"datasetId\\\\\": \\\\\"9927f2dd-0569-4f77-96fe-684f630609d6\\\\\"}, \\\\\"datasets\\\\\": 0}',\n",
       "  'EnableSubsampling': None,\n",
       "  'runTemplate': 'AutoML',\n",
       "  'azureml.runsource': 'automl',\n",
       "  'display_task_type': 'regression',\n",
       "  'dependencies_versions': '{\"azureml-widgets\": \"1.34.0\", \"azureml-train\": \"1.34.0\", \"azureml-train-restclients-hyperdrive\": \"1.34.0\", \"azureml-train-core\": \"1.34.0\", \"azureml-train-automl\": \"1.34.0\", \"azureml-train-automl-runtime\": \"1.34.0\", \"azureml-train-automl-client\": \"1.34.0\", \"azureml-tensorboard\": \"1.34.0\", \"azureml-telemetry\": \"1.34.0\", \"azureml-sdk\": \"1.34.0\", \"azureml-samples\": \"0+unknown\", \"azureml-responsibleai\": \"1.34.0\", \"azureml-pipeline\": \"1.34.0\", \"azureml-pipeline-steps\": \"1.34.0\", \"azureml-pipeline-core\": \"1.34.0\", \"azureml-opendatasets\": \"1.34.0\", \"azureml-mlflow\": \"1.34.0\", \"azureml-interpret\": \"1.34.0\", \"azureml-inference-server-http\": \"0.3.1\", \"azureml-explain-model\": \"1.34.0\", \"azureml-defaults\": \"1.34.0\", \"azureml-dataset-runtime\": \"1.34.0\", \"azureml-dataprep\": \"2.22.2\", \"azureml-dataprep-rslex\": \"1.20.1\", \"azureml-dataprep-native\": \"38.0.0\", \"azureml-datadrift\": \"1.34.0\", \"azureml-core\": \"1.34.0\", \"azureml-contrib-services\": \"1.34.0\", \"azureml-contrib-server\": \"1.34.0\", \"azureml-contrib-reinforcementlearning\": \"1.34.0\", \"azureml-contrib-pipeline-steps\": \"1.34.0\", \"azureml-contrib-notebook\": \"1.34.0\", \"azureml-contrib-fairness\": \"1.34.0\", \"azureml-contrib-dataset\": \"1.34.0\", \"azureml-contrib-automl-pipeline-steps\": \"1.34.0\", \"azureml-cli-common\": \"1.34.0\", \"azureml-automl-runtime\": \"1.34.0\", \"azureml-automl-dnn-nlp\": \"1.34.0\", \"azureml-automl-core\": \"1.34.0\", \"azureml-accel-models\": \"1.34.0\"}',\n",
       "  '_aml_system_scenario_identification': 'Remote.Parent',\n",
       "  'ClientType': 'SDK',\n",
       "  'environment_cpu_name': 'AzureML-AutoML',\n",
       "  'environment_cpu_label': 'prod',\n",
       "  'environment_gpu_name': 'AzureML-AutoML-GPU',\n",
       "  'environment_gpu_label': 'prod',\n",
       "  'root_attribution': 'automl',\n",
       "  'attribution': 'AutoML',\n",
       "  'Orchestrator': 'AutoML',\n",
       "  'CancelUri': 'https://southcentralus.api.azureml.ms/jasmine/v1.0/subscriptions/610d6e37-4747-4a20-80eb-3aad70a55f43/resourceGroups/aml-quickstarts-159929/providers/Microsoft.MachineLearningServices/workspaces/quick-starts-ws-159929/experimentids/be5f20a8-9cd6-4ebd-a1c6-7f9d9218729a/cancel/AutoML_2531e0e0-ceba-4864-b453-a94fe7cc18c5',\n",
       "  'ClientSdkVersion': '1.34.0.post1',\n",
       "  'snapshotId': '00000000-0000-0000-0000-000000000000',\n",
       "  'SetupRunId': 'AutoML_2531e0e0-ceba-4864-b453-a94fe7cc18c5_setup',\n",
       "  'SetupRunContainerId': 'dcid.AutoML_2531e0e0-ceba-4864-b453-a94fe7cc18c5_setup',\n",
       "  'FeaturizationRunJsonPath': 'featurizer_container.json',\n",
       "  'FeaturizationRunId': 'AutoML_2531e0e0-ceba-4864-b453-a94fe7cc18c5_featurize',\n",
       "  'ProblemInfoJsonString': '{\"dataset_num_categorical\": 0, \"is_sparse\": true, \"subsampling\": false, \"has_extra_col\": true, \"dataset_classes\": 27979, \"dataset_features\": 12427, \"dataset_samples\": 358486, \"single_frequency_class_detected\": false}',\n",
       "  'ModelExplainRunId': 'AutoML_2531e0e0-ceba-4864-b453-a94fe7cc18c5_ModelExplain'},\n",
       " 'inputDatasets': [{'dataset': {'id': '9927f2dd-0569-4f77-96fe-684f630609d6'}, 'consumptionDetails': {'type': 'RunInput', 'inputName': 'training_data', 'mechanism': 'Direct'}}],\n",
       " 'outputDatasets': [],\n",
       " 'logFiles': {},\n",
       " 'submittedBy': 'ODL_User 159929'}"
      ]
     },
     "execution_count": 8,
     "metadata": {},
     "output_type": "execute_result"
    }
   ],
   "source": [
    "from azureml.widgets import RunDetails\n",
    "RunDetails(remote_run).show()\n",
    "\n"
   ]
  },
  {
   "cell_type": "markdown",
   "metadata": {},
   "source": [
    "## Best Model\n",
    "\n",
    "TODO: In the cell below, get the best model from the automl experiments and display all the properties of the model.\n",
    "\n"
   ]
  },
  {
   "cell_type": "code",
   "execution_count": 13,
   "metadata": {
    "gather": {
     "logged": 1633300323702
    },
    "jupyter": {
     "outputs_hidden": false,
     "source_hidden": false
    },
    "nteract": {
     "transient": {
      "deleting": false
     }
    }
   },
   "outputs": [
    {
     "name": "stdout",
     "output_type": "stream",
     "text": [
      "Details of best run\n",
      "Run(Experiment: PCAP_Exp_CarPrices_AutoML,\n",
      "Id: AutoML_2531e0e0-ceba-4864-b453-a94fe7cc18c5_32,\n",
      "Type: azureml.scriptrun,\n",
      "Status: Completed)\n",
      "Fitted model\n",
      "RegressionPipeline(pipeline=Pipeline(memory=None,\n",
      "                                     steps=[('datatransformer',\n",
      "                                             DataTransformer(enable_dnn=False, enable_feature_sweeping=True, feature_sweeping_config={}, feature_sweeping_timeout=86400, featurization_config=None, force_text_dnn=False, is_cross_validation=True, is_onnx_compatible=False, observer=None, task='regression', working_dir='/mnt/batch/ta...\n",
      "), random_state=None))], verbose=False))], meta_learner=ElasticNetCV(alphas=None, copy_X=True, cv=None, eps=0.001, fit_intercept=True, l1_ratio=0.5, max_iter=1000, n_alphas=100, n_jobs=None, normalize=False, positive=False, precompute='auto', random_state=None, selection='cyclic', tol=0.0001, verbose=0), training_cv_folds=5))],\n",
      "                                     verbose=False),\n",
      "                   stddev=[5409.596547746223])\n",
      "Steps of fitted model\n",
      "[('datatransformer', DataTransformer(\n",
      "    task='regression',\n",
      "    is_onnx_compatible=False,\n",
      "    enable_feature_sweeping=True,\n",
      "    enable_dnn=False,\n",
      "    force_text_dnn=False,\n",
      "    feature_sweeping_timeout=86400,\n",
      "    featurization_config=None,\n",
      "    is_cross_validation=True,\n",
      "    feature_sweeping_config={}\n",
      ")), ('stackensembleregressor', StackEnsembleRegressor(\n",
      "    base_learners=[('14', Pipeline(\n",
      "        memory=None,\n",
      "        steps=[('standardscalerwrapper', StandardScalerWrapper(\n",
      "            copy=True,\n",
      "            with_mean=False,\n",
      "            with_std=False\n",
      "        )), ('xgboostregressor', XGBoostRegressor(\n",
      "            random_state=0,\n",
      "            n_jobs=1,\n",
      "            problem_info=ProblemInfo(\n",
      "                gpu_training_param_dict={'processing_unit_type': 'cpu'}\n",
      "            ),\n",
      "            booster='gbtree',\n",
      "            colsample_bytree=1,\n",
      "            eta=0.5,\n",
      "            gamma=0,\n",
      "            max_depth=9,\n",
      "            max_leaves=0,\n",
      "            n_estimators=100,\n",
      "            objective='reg:linear',\n",
      "            reg_alpha=0,\n",
      "            reg_lambda=2.3958333333333335,\n",
      "            subsample=0.9,\n",
      "            tree_method='auto'\n",
      "        ))],\n",
      "        verbose=False\n",
      "    )), ('2', Pipeline(\n",
      "        memory=None,\n",
      "        steps=[('standardscalerwrapper', StandardScalerWrapper(\n",
      "            copy=True,\n",
      "            with_mean=False,\n",
      "            with_std=False\n",
      "        )), ('xgboostregressor', XGBoostRegressor(\n",
      "            random_state=0,\n",
      "            n_jobs=1,\n",
      "            problem_info=ProblemInfo(\n",
      "                gpu_training_param_dict={'processing_unit_type': 'cpu'}\n",
      "            ),\n",
      "            booster='gbtree',\n",
      "            colsample_bytree=0.5,\n",
      "            eta=0.001,\n",
      "            gamma=0,\n",
      "            max_depth=9,\n",
      "            max_leaves=63,\n",
      "            n_estimators=100,\n",
      "            objective='reg:linear',\n",
      "            reg_alpha=0,\n",
      "            reg_lambda=0.625,\n",
      "            subsample=0.7,\n",
      "            tree_method='auto'\n",
      "        ))],\n",
      "        verbose=False\n",
      "    )), ('0', Pipeline(\n",
      "        memory=None,\n",
      "        steps=[('maxabsscaler', MaxAbsScaler(\n",
      "            copy=True\n",
      "        )), ('lightgbmregressor', LightGBMRegressor(\n",
      "            min_data_in_leaf=20,\n",
      "            random_state=None,\n",
      "            n_jobs=1,\n",
      "            problem_info=ProblemInfo(\n",
      "                gpu_training_param_dict={'processing_unit_type': 'cpu'}\n",
      "            )\n",
      "        ))],\n",
      "        verbose=False\n",
      "    ))],\n",
      "    meta_learner=ElasticNetCV(\n",
      "        alphas=None,\n",
      "        copy_X=True,\n",
      "        cv=None,\n",
      "        eps=0.001,\n",
      "        fit_intercept=True,\n",
      "        l1_ratio=0.5,\n",
      "        max_iter=1000,\n",
      "        n_alphas=100,\n",
      "        n_jobs=None,\n",
      "        normalize=False,\n",
      "        positive=False,\n",
      "        precompute='auto',\n",
      "        random_state=None,\n",
      "        selection='cyclic',\n",
      "        tol=0.0001,\n",
      "        verbose=0\n",
      "    ),\n",
      "    training_cv_folds=5\n",
      "))]\n",
      "Details of fitted model\n",
      "datatransformer\n",
      "{'enable_dnn': False,\n",
      " 'enable_feature_sweeping': True,\n",
      " 'feature_sweeping_config': {},\n",
      " 'feature_sweeping_timeout': 86400,\n",
      " 'featurization_config': None,\n",
      " 'force_text_dnn': False,\n",
      " 'is_cross_validation': True,\n",
      " 'is_onnx_compatible': False,\n",
      " 'observer': None,\n",
      " 'task': 'regression',\n",
      " 'working_dir': '/mnt/batch/tasks/shared/LS_root/mounts/clusters/notebook159929/code/Users/odl_user_159929'}\n",
      "\n",
      "stackensembleregressor\n",
      "\n",
      "Meta Learner\n",
      "ElasticNetCV(alphas=None, copy_X=True, cv=None, eps=0.001, fit_intercept=True,\n",
      "             l1_ratio=0.5, max_iter=1000, n_alphas=100, n_jobs=None,\n",
      "             normalize=False, positive=False, precompute='auto',\n",
      "             random_state=None, selection='cyclic', tol=0.0001, verbose=0)\n",
      "\n",
      "14 - standardscalerwrapper\n",
      "{'class_name': 'StandardScaler',\n",
      " 'copy': True,\n",
      " 'module_name': 'sklearn.preprocessing._data',\n",
      " 'with_mean': False,\n",
      " 'with_std': False}\n",
      "\n",
      "14 - xgboostregressor\n",
      "{'base_score': 0.5,\n",
      " 'booster': 'gbtree',\n",
      " 'colsample_bylevel': 1,\n",
      " 'colsample_bynode': 1,\n",
      " 'colsample_bytree': 1,\n",
      " 'eta': 0.5,\n",
      " 'gamma': 0,\n",
      " 'importance_type': 'gain',\n",
      " 'learning_rate': 0.1,\n",
      " 'max_delta_step': 0,\n",
      " 'max_depth': 9,\n",
      " 'max_leaves': 0,\n",
      " 'min_child_weight': 1,\n",
      " 'missing': nan,\n",
      " 'n_estimators': 100,\n",
      " 'n_jobs': 1,\n",
      " 'nthread': None,\n",
      " 'objective': 'reg:squarederror',\n",
      " 'random_state': 0,\n",
      " 'reg_alpha': 0,\n",
      " 'reg_lambda': 2.3958333333333335,\n",
      " 'scale_pos_weight': 1,\n",
      " 'seed': None,\n",
      " 'silent': None,\n",
      " 'subsample': 0.9,\n",
      " 'tree_method': 'auto',\n",
      " 'verbose': -10,\n",
      " 'verbosity': 0}\n",
      "\n",
      "2 - standardscalerwrapper\n",
      "{'class_name': 'StandardScaler',\n",
      " 'copy': True,\n",
      " 'module_name': 'sklearn.preprocessing._data',\n",
      " 'with_mean': False,\n",
      " 'with_std': False}\n",
      "\n",
      "2 - xgboostregressor\n",
      "{'base_score': 0.5,\n",
      " 'booster': 'gbtree',\n",
      " 'colsample_bylevel': 1,\n",
      " 'colsample_bynode': 1,\n",
      " 'colsample_bytree': 0.5,\n",
      " 'eta': 0.001,\n",
      " 'gamma': 0,\n",
      " 'importance_type': 'gain',\n",
      " 'learning_rate': 0.1,\n",
      " 'max_delta_step': 0,\n",
      " 'max_depth': 9,\n",
      " 'max_leaves': 63,\n",
      " 'min_child_weight': 1,\n",
      " 'missing': nan,\n",
      " 'n_estimators': 100,\n",
      " 'n_jobs': 1,\n",
      " 'nthread': None,\n",
      " 'objective': 'reg:squarederror',\n",
      " 'random_state': 0,\n",
      " 'reg_alpha': 0,\n",
      " 'reg_lambda': 0.625,\n",
      " 'scale_pos_weight': 1,\n",
      " 'seed': None,\n",
      " 'silent': None,\n",
      " 'subsample': 0.7,\n",
      " 'tree_method': 'auto',\n",
      " 'verbose': -10,\n",
      " 'verbosity': 0}\n",
      "\n",
      "0 - maxabsscaler\n",
      "{'copy': True}\n",
      "\n",
      "0 - lightgbmregressor\n",
      "{'min_data_in_leaf': 20,\n",
      " 'n_jobs': 1,\n",
      " 'problem_info': ProblemInfo(\n",
      "    gpu_training_param_dict={'processing_unit_type': 'cpu'}\n",
      "),\n",
      " 'random_state': None}\n",
      "\n"
     ]
    }
   ],
   "source": [
    "# https://docs.microsoft.com/en-us/python/api/azureml-train-automl-client/azureml.train.automl.run.automlrun?view=azure-ml-py#get-output-iteration--typing-union-int--nonetype----none--metric--typing-union-str--nonetype----none--return-onnx-model--bool---false--return-split-onnx-model--typing-union-azureml-automl-core-onnx-convert-onnx-convert-constants-splitonnxmodelname--nonetype----none----kwargs--typing-any-----typing-tuple-azureml-core-run-run--typing-any-\n",
    "# If I decide to do the onnx models, use the get_output option of the automlrun in the link above to explain how\n",
    "\n",
    "remote_run.wait_for_completion()\n",
    "best_run, fitted_model = remote_run.get_output()\n",
    "print(\"Details of best run\")\n",
    "print(best_run)\n",
    "print(\"Fitted model\")\n",
    "print(fitted_model)\n",
    "print(\"Steps of fitted model\")\n",
    "print(fitted_model.steps)\n",
    "\n",
    "from pprint import pprint\n",
    "\n",
    "def print_model(model, prefix=\"\"):\n",
    "    for step in model.steps:\n",
    "        print(prefix + step[0])\n",
    "        if hasattr(step[1], 'estimators') and hasattr(step[1], 'weights'):\n",
    "            pprint({'estimators': list(e[0] for e in step[1].estimators), 'weights': step[1].weights})\n",
    "            print()\n",
    "            for estimator in step[1].estimators:\n",
    "                print_model(estimator[1], estimator[0]+ ' - ')\n",
    "        elif hasattr(step[1], '_base_learners') and hasattr(step[1], '_meta_learner'):\n",
    "            print(\"\\nMeta Learner\")\n",
    "            pprint(step[1]._meta_learner)\n",
    "            print()\n",
    "            for estimator in step[1]._base_learners:\n",
    "                print_model(estimator[1], estimator[0]+ ' - ')\n",
    "        else:\n",
    "            pprint(step[1].get_params())\n",
    "            print()   \n",
    "print(\"Details of fitted model\")\n",
    "print_model(fitted_model)\n",
    "\n",
    "# https://docs.microsoft.com/en-us/azure/machine-learning/how-to-configure-auto-train\n",
    "# best_run, fitted_model = automl_run.get_output()\n",
    "# print(best_run)\n",
    "# print(fitted_model)\n",
    "# https://github.com/Azure/MachineLearningNotebooks/blob/master/how-to-use-azureml/machine-learning-pipelines/nyc-taxi-data-regression-model-building/nyc-taxi-data-regression-model-building.ipynb\n",
    "# https://docs.microsoft.com/en-us/azure/machine-learning/tutorial-auto-train-models\n",
    "\n",
    "# https://github.com/Azure/MachineLearningNotebooks/blob/master/how-to-use-azureml/explain-model/azure-integration/remote-explanation/explain-model-on-amlcompute.ipynb\n",
    "# https://docs.microsoft.com/en-us/azure/machine-learning/concept-onnx\n",
    "# https://docs.microsoft.com/en-us/azure/machine-learning/concept-automated-ml#automl--onnx\n",
    "# https://github.com/onnx/tutorials"
   ]
  },
  {
   "cell_type": "code",
   "execution_count": 57,
   "metadata": {
    "gather": {
     "logged": 1633305225512
    },
    "jupyter": {
     "outputs_hidden": false,
     "source_hidden": false
    },
    "nteract": {
     "transient": {
      "deleting": false
     }
    }
   },
   "outputs": [
    {
     "name": "stderr",
     "output_type": "stream",
     "text": [
      "INFO:interpret_community.common.explanation_utils:Using default datastore for uploads\n"
     ]
    },
    {
     "name": "stdout",
     "output_type": "stream",
     "text": [
      "Explanations of raw feature importance\n",
      "{'make': 5231.208014009412, 'year': 4586.179355115348, 'engine_size': 3641.9943364339865, 'miles': 2179.420158360328, 'model': 2019.1348045797881, 'body_type': 1765.052619310363, 'drivetrain': 1652.5170506806865, 'trim': 1408.8263900614154, 'fuel_type': 1163.86818154396, 'state': 834.937001754856, 'engine_block': 586.9135334878605, 'city': 150.75619377361465, 'zip': 149.425395406133, 'seller_name': 139.4658698779743, 'vehicle_type': 136.95199544572412, 'transmission': 60.93915061421192, 'street': 56.7292710620626, 'stock_no': 0.0, 'vin': 0.0, 'id': 0.0}\n",
      "Explanations of imputed feature importance\n",
      "{'year_MeanImputer': 4586.179355115616, 'engine_size_MeanImputer': 3449.7551830475495, 'miles_MeanImputer': 2189.6278557600394, 'drivetrain_CharGramCountVectorizer_fwd': 871.4660139863786, 'drivetrain_CharGramCountVectorizer_4wd': 796.6858296252691, 'make_CharGramCountVectorizer_nissan': 615.6758580467321, 'engine_size_ImputationMarker': 599.9917064687519, 'body_type_CharGramCountVectorizer_sedan': 560.9099625302733, 'engine_block_CharGramCountVectorizer_i': 550.0648503532361, 'fuel_type_CharGramCountVectorizer_premium unleaded': 497.83129618224115, 'body_type_CharGramCountVectorizer_pickup': 462.7311967680717, 'make_CharGramCountVectorizer_hyundai': 452.4832871368541, 'state_CharGramCountVectorizer_qc': 422.53566365716773, 'make_CharGramCountVectorizer_ford': 388.83993632673497, 'make_CharGramCountVectorizer_kia': 385.60441648615995, 'make_CharGramCountVectorizer_mercedes-benz': 318.0842591444204, 'make_CharGramCountVectorizer_jeep': 307.7692490049131, 'body_type_CharGramCountVectorizer_hatchback': 293.8977684960854, 'make_CharGramCountVectorizer_mazda': 251.1760168769396, 'fuel_type_CharGramCountVectorizer_e85 / unleaded': 219.02552612310998, 'fuel_type_CharGramCountVectorizer_unleaded': 212.06963571813344, 'make_CharGramCountVectorizer_toyota': 204.1334249346933, 'make_CharGramCountVectorizer_bmw': 197.74693864797277, 'model_HashOneHotEncoder_387': 189.69158504774967, 'state_CharGramCountVectorizer_bc': 186.59862341381256, 'make_CharGramCountVectorizer_chevrolet': 182.22980110890884, 'make_CharGramCountVectorizer_volkswagen': 173.7439297050953, 'make_CharGramCountVectorizer_honda': 169.5821579962749, 'body_type_CharGramCountVectorizer_suv': 163.55611018123545, 'fuel_type_CharGramCountVectorizer_diesel': 151.88589096318452, 'make_CharGramCountVectorizer_dodge': 148.92180255903463, 'make_CharGramCountVectorizer_porsche': 141.8474891298792, 'make_CharGramCountVectorizer_ferrari': 138.40268826925538, 'vehicle_type_ModeCatImputer_LabelEncoder': 136.95199544572736, 'make_CharGramCountVectorizer_mitsubishi': 124.91678102444762, 'make_CharGramCountVectorizer_audi': 119.13864894283566, 'make_CharGramCountVectorizer_mclaren': 118.00088401540769, 'make_CharGramCountVectorizer_subaru': 109.25538719870895, 'state_CharGramCountVectorizer_on': 100.61512794619172, 'trim_HashOneHotEncoder_548': 98.7341513002397, 'make_CharGramCountVectorizer_land rover': 89.01209384022665, 'state_CharGramCountVectorizer_ab': 85.33878011396385, 'body_type_CharGramCountVectorizer_none': 84.13057583244029, 'model_HashOneHotEncoder_337': 75.22014319152754, 'model_HashOneHotEncoder_155': 68.62074886526449, 'fuel_type_CharGramCountVectorizer_electric / premium unleaded': 63.215638639205096, 'make_CharGramCountVectorizer_jaguar': 62.75386494205035, 'model_HashOneHotEncoder_274': 62.5599599222858, 'body_type_CharGramCountVectorizer_coupe': 62.273313666104436, 'model_HashOneHotEncoder_217': 61.35869382644537, 'transmission_ModeCatImputer_LabelEncoder': 60.939150614212465, 'make_CharGramCountVectorizer_tesla': 56.002734091290954, 'body_type_CharGramCountVectorizer_convertible': 54.744518397139345, 'body_type_CharGramCountVectorizer_minivan': 50.57883081021003, 'trim_HashOneHotEncoder_602': 50.57767201773779, 'model_HashOneHotEncoder_14': 49.331500084345485, 'make_CharGramCountVectorizer_rolls-royce': 49.21475496793865, 'model_HashOneHotEncoder_160': 48.231596116154954, 'make_CharGramCountVectorizer_lamborghini': 45.62487059759719, 'model_HashOneHotEncoder_95': 45.55545650093548, 'model_HashOneHotEncoder_175': 45.39077776756902, 'make_CharGramCountVectorizer_smart': 44.271964817755446, 'fuel_type_CharGramCountVectorizer_electric / unleaded': 44.17752995303936, 'make_CharGramCountVectorizer_ram': 43.93688102656962, 'model_HashOneHotEncoder_498': 42.10138833816157, 'model_HashOneHotEncoder_246': 40.119409983067385, 'model_HashOneHotEncoder_394': 39.98788697375186, 'model_HashOneHotEncoder_25': 39.586329262981685, 'make_CharGramCountVectorizer_aston martin': 37.91029880981145, 'make_CharGramCountVectorizer_mini': 37.76470557909974, 'engine_block_CharGramCountVectorizer': 36.84868313463921, 'model_HashOneHotEncoder_77': 35.83280366593635, 'model_HashOneHotEncoder_397': 35.26717108293215, 'trim_HashOneHotEncoder_277': 34.575960349422516, 'model_HashOneHotEncoder_138': 34.226126726982535, 'make_CharGramCountVectorizer_infiniti': 34.198806172115766, 'trim_HashOneHotEncoder_315': 34.150859985634185, 'trim_HashOneHotEncoder_974': 33.23129039360837, 'trim_HashOneHotEncoder_491': 32.944808336942664, 'trim_HashOneHotEncoder_275': 31.90216602801262, 'model_HashOneHotEncoder_55': 31.518395937193443, 'zip_HashOneHotEncoder_1977': 30.581005759306652, 'trim_HashOneHotEncoder_370': 30.289569577465215, 'model_HashOneHotEncoder_294': 30.171728276013095, 'trim_HashOneHotEncoder_188': 29.928751195107367, 'model_HashOneHotEncoder_224': 29.459474963682286, 'trim_HashOneHotEncoder_76': 29.0320424535624, 'model_HashOneHotEncoder_247': 27.663266028995753, 'make_CharGramCountVectorizer_buick': 27.588567651671383, 'model_HashOneHotEncoder_282': 27.40794189920587, 'trim_HashOneHotEncoder_353': 27.375821601999025, 'trim_HashOneHotEncoder_751': 26.868024935064547, 'make_CharGramCountVectorizer_maserati': 26.311829023612724, 'trim_HashOneHotEncoder_192': 26.281506031100367, 'model_HashOneHotEncoder_320': 26.10709679442362, 'trim_HashOneHotEncoder_388': 26.05801580041229, 'trim_HashOneHotEncoder_112': 25.578627154517473, 'make_CharGramCountVectorizer_chrysler': 25.499742664349608, 'model_HashOneHotEncoder_426': 25.372331266998394, 'trim_HashOneHotEncoder_140': 25.170362731630828}\n"
     ]
    }
   ],
   "source": [
    "\n",
    "from azureml.interpret import ExplanationClient\n",
    "\n",
    "client = ExplanationClient.from_run(best_run)\n",
    "\n",
    "raw_explanations = client.download_model_explanation(raw=True)\n",
    "print(\"Explanations of raw feature importance\")\n",
    "print(raw_explanations.get_feature_importance_dict())\n",
    "\n",
    "engineered_explanations = client.download_model_explanation(raw=False)\n",
    "print(\"Explanations of engineered feature importance\")\n",
    "print(engineered_explanations .get_feature_importance_dict())"
   ]
  },
  {
   "cell_type": "code",
   "execution_count": 45,
   "metadata": {
    "gather": {
     "logged": 1633302730466
    },
    "jupyter": {
     "outputs_hidden": false,
     "source_hidden": false
    },
    "nteract": {
     "transient": {
      "deleting": false
     }
    }
   },
   "outputs": [
    {
     "name": "stdout",
     "output_type": "stream",
     "text": [
      "Saving best model with name: AutoML2531e0e0c32 to: ./model/BestAutoMlModel\n"
     ]
    },
    {
     "data": {
      "text/plain": [
       "'model/BestAutoMlModel/model.pkl'"
      ]
     },
     "execution_count": 45,
     "metadata": {},
     "output_type": "execute_result"
    }
   ],
   "source": [
    "#TODO: Save the best model\n",
    "bestAutoname = best_run.properties['model_name']\n",
    "bestAutofolder=\"model\"\n",
    "bestAutofolder2 = 'BestAutoMlModel'\n",
    "downloadtarget = f'./{bestAutofolder}/{bestAutofolder2}'\n",
    "print(f\"Saving best model with name: {bestAutoname} to: {downloadtarget}\")\n",
    "model = remote_run.register_model(model_name = bestAutoname, description = 'AutoML-AutoPrices')\n",
    "model.download(target_dir=downloadtarget, exist_ok = True)\n"
   ]
  },
  {
   "cell_type": "markdown",
   "metadata": {},
   "source": [
    "## Model Deployment\n",
    "\n",
    "Remember you have to deploy only one of the two models you trained.. Perform the steps in the rest of this notebook only if you wish to deploy this model.\n",
    "\n",
    "TODO: In the cell below, register the model, create an inference config and deploy the model as a web service."
   ]
  },
  {
   "cell_type": "code",
   "execution_count": 1,
   "metadata": {
    "gather": {
     "logged": 1633302858671
    },
    "jupyter": {
     "outputs_hidden": false,
     "source_hidden": false
    },
    "nteract": {
     "transient": {
      "deleting": false
     }
    }
   },
   "outputs": [
    {
     "ename": "NameError",
     "evalue": "name 'ws' is not defined",
     "output_type": "error",
     "traceback": [
      "\u001b[0;31m---------------------------------------------------------------------------\u001b[0m",
      "\u001b[0;31mNameError\u001b[0m                                 Traceback (most recent call last)",
      "\u001b[0;32m<ipython-input-1-f2a85ea2a414>\u001b[0m in \u001b[0;36m<module>\u001b[0;34m\u001b[0m\n\u001b[1;32m      7\u001b[0m \u001b[0;31m# myenv_inference = Environment.get(workspace=ws, name=\"AzureML-AutoML\")\u001b[0m\u001b[0;34m\u001b[0m\u001b[0;34m\u001b[0m\u001b[0;34m\u001b[0m\u001b[0m\n\u001b[1;32m      8\u001b[0m \u001b[0;34m\u001b[0m\u001b[0m\n\u001b[0;32m----> 9\u001b[0;31m \u001b[0mmyenv_inference\u001b[0m \u001b[0;34m=\u001b[0m \u001b[0mEnvironment\u001b[0m\u001b[0;34m.\u001b[0m\u001b[0mget\u001b[0m\u001b[0;34m(\u001b[0m\u001b[0mworkspace\u001b[0m\u001b[0;34m=\u001b[0m\u001b[0mws\u001b[0m\u001b[0;34m,\u001b[0m \u001b[0mname\u001b[0m\u001b[0;34m=\u001b[0m\u001b[0;34m\"AzureML-sklearn-0.24.1-ubuntu18.04-py37-cpu-inference\"\u001b[0m\u001b[0;34m)\u001b[0m\u001b[0;34m\u001b[0m\u001b[0;34m\u001b[0m\u001b[0m\n\u001b[0m\u001b[1;32m     10\u001b[0m \u001b[0mconda_dep\u001b[0m \u001b[0;34m=\u001b[0m \u001b[0mCondaDependencies\u001b[0m\u001b[0;34m(\u001b[0m\u001b[0;34m)\u001b[0m\u001b[0;34m\u001b[0m\u001b[0;34m\u001b[0m\u001b[0m\n\u001b[1;32m     11\u001b[0m \u001b[0mconda_dep\u001b[0m\u001b[0;34m.\u001b[0m\u001b[0madd_pip_package\u001b[0m\u001b[0;34m(\u001b[0m\u001b[0;34m\"azureml-train-automl\"\u001b[0m\u001b[0;34m)\u001b[0m\u001b[0;34m\u001b[0m\u001b[0;34m\u001b[0m\u001b[0m\n",
      "\u001b[0;31mNameError\u001b[0m: name 'ws' is not defined"
     ]
    }
   ],
   "source": [
    "from azureml.core.environment import Environment\n",
    "from azureml.core.model import InferenceConfig, Model\n",
    "from azureml.core.webservice import AciWebservice, Webservice\n",
    "from azureml.core.conda_dependencies import CondaDependencies\n",
    "# If I decide to use onnx model\n",
    "# https://docs.microsoft.com/en-us/azure/machine-learning/concept-automated-ml#automl--onnx\n",
    "\n",
    "# https://github.com/MicrosoftDocs/azure-docs/blob/master/articles/machine-learning/resource-curated-environments.md\n",
    "# https://docs.microsoft.com/en-us/azure/machine-learning/how-to-machine-learning-interpretability-automl\n",
    "azureml_pip_packages = ['azureml-train-automl', 'azureml-defaults']\n",
    "myenv_inference = CondaDependencies.create(conda_packages=['scikit-learn', 'pandas', 'numpy', 'py-xgboost<=0.80'],\n",
    "                                 pip_packages=azureml_pip_packages,\n",
    "                                 pin_sdk_version=True)\n",
    "with open(\"myenv_dependencies_automl.yml\",\"w\") as f:\n",
    "    f.write(myenv_inference.serialize_to_string())\n",
    "myenv_inference = Environment.from_conda_specification(name=\"myenv_inference\", file_path=\"myenv_dependencies_automl.yml\")\n",
    "\n",
    "# myenv_inference = Environment.get(workspace=ws, name=\"AzureML-AutoML\")\n",
    "\n",
    "# myenv_inference = Environment.get(workspace=ws, name=\"AzureML-sklearn-0.24.1-ubuntu18.04-py37-cpu-inference\")\n",
    "# conda_dep = CondaDependencies()\n",
    "# conda_dep.add_pip_package(\"azureml-train-automl\")\n",
    "# conda_dep.add_pip_package(\"azureml-defaults\")\n",
    "# myenv_inference.python.conda_dependencies=conda_dep\n",
    "\n",
    "\n",
    "print(f\"Model ID - {model.id}\")\n",
    "\n",
    "\n",
    "# Combine scoring script & environment in Inference configuration\n",
    "dummy_inference_config = InferenceConfig(entry_script=\"score_automl.py\", environment=myenv_inference)\n",
    "\n",
    "# Set deployment configuration\n",
    "deployment_config = AciWebservice.deploy_configuration(cpu_cores = 1, memory_gb = 1, auth_enabled=True)\n",
    "\n",
    "wsvc_name = \"svc-autoprices-automl\"\n",
    "service = Model.deploy(\n",
    "    ws,\n",
    "    wsvc_name,\n",
    "    [model],\n",
    "    inference_config = dummy_inference_config,\n",
    "    deployment_config = deployment_config,\n",
    "    overwrite=True,\n",
    ")\n",
    "service.wait_for_deployment(show_output=True)\n",
    "print(service.state)\n",
    "print(service.scoring_uri)\n",
    "print(service.swagger_uri)\n",
    "primary, secondary = service.get_keys()\n",
    "print(primary)\n",
    "#Enable app insights\n",
    "service.update(enable_app_insights=True)"
   ]
  },
  {
   "cell_type": "markdown",
   "metadata": {
    "collapsed": true,
    "gather": {
     "logged": 1598431657736
    },
    "jupyter": {
     "outputs_hidden": false,
     "source_hidden": false
    },
    "nteract": {
     "transient": {
      "deleting": false
     }
    }
   },
   "source": [
    "TODO: In the cell below, send a request to the web service you deployed to test it."
   ]
  },
  {
   "cell_type": "code",
   "execution_count": null,
   "metadata": {
    "gather": {
     "logged": 1598432707604
    },
    "jupyter": {
     "outputs_hidden": false,
     "source_hidden": false
    },
    "nteract": {
     "transient": {
      "deleting": false
     }
    }
   },
   "outputs": [],
   "source": [
    "import json\n",
    "# TODO Download swagger.json and run on local docker image to review inputs.\n",
    "# TODO Screenshot the input dict, outputs etc\n",
    "service = Webservice(workspace=ws, name=wsvc_name)\n",
    "\n",
    "\n",
    "import requests\n",
    "# URL for the web service\n",
    "scoring_uri = service.scoring_uri\n",
    "# If the service is authenticated, set the key or token\n",
    "key = primary\n",
    "\n",
    "# Two sets of data to score, so we get two results back\n",
    "\n",
    "#Generally, I figure we would send in all the columns from the original dataset and \n",
    "#then run it through the clean function to whittle it down, but that's not necessary for this exercise.\n",
    "data = {\n",
    "    \"data\":\n",
    "    [\n",
    "        {\n",
    "            \"id\":\"2fc65749-0cff\",\n",
    "            \"vin\":\"1FTEW1E50JFB75149\",\n",
    "            \"miles\":\"51611\",\n",
    "            \"stock_no\":\"2021128A\",\n",
    "            \"year\":\"2018\",\n",
    "            \"make\":\"Ford\",\n",
    "            \"model\":\"F-150\",\n",
    "            \"trim\":\"XLT\",\n",
    "            \"body_type\":\"Pickup\",\n",
    "            \"vehicle_type\":\"Truck\",\n",
    "            \"drivetrain\":\"4WD\",\n",
    "            \"transmission\":\"Automatic\",\n",
    "            \"fuel_type\":\"Unleaded / Unleaded\",\n",
    "            \"engine_size\":\"5\",\n",
    "            \"engine_block\":\"V\",\n",
    "            \"seller_name\":\"holiday ford lincoln ltd\",\n",
    "            \"street\":\"1555 Lansdowne Street, Peterborough\",\n",
    "            \"city\":\"Peterborough\",\n",
    "            \"state\":\"ON\",\n",
    "            \"zip\":\"K9J 7M3\"\n",
    "\n",
    "            #Should be around 44699\n",
    "        }\n",
    "    ,\n",
    "        {\n",
    "            \"id\":\"cd8fc59c-4ff5\",\n",
    "            \"vin\":\"2T1BE40E39C017603\",\n",
    "            \"miles\":\"335361\",\n",
    "            \"stock_no\":\"1385\",\n",
    "            \"year\":\"2009\",\n",
    "            \"make\":\"Toyota\",\n",
    "            \"model\":\"Corolla\",\n",
    "            \"trim\":\"XRS\",\n",
    "            \"body_type\":\"Sedan\",\n",
    "            \"vehicle_type\":\"Car\",\n",
    "            \"drivetrain\":\"FWD\",\n",
    "            \"transmission\":\"Manual\",\n",
    "            \"fuel_type\":\"Unleaded\",\n",
    "            \"engine_size\":\"2.4\",\n",
    "            \"engine_block\":\"I\",\n",
    "            \"seller_name\":\"fara auto sales\",\n",
    "            \"street\":\"1545 Warden Ave\",\n",
    "            \"city\":\"Scarborough\",\n",
    "            \"state\":\"ON\",\n",
    "            \"zip\":\"M1R 2S9\"\n",
    "\n",
    "            #Should be around 3550\n",
    "        }\n",
    "    ,\n",
    "        {\n",
    "            \"id\":\"77521bd9-e533\",\n",
    "            \"vin\":\"W1N0G6EB4LV247708\",\n",
    "            \"miles\":\"8852\",\n",
    "            \"stock_no\":\"M21144A\",\n",
    "            \"year\":\"2020\",\n",
    "            \"make\":\"Mercedes-Benz\",\n",
    "            \"model\":\"GLC-Class\",\n",
    "            \"trim\":\"AMG GLC43\",\n",
    "            \"body_type\":\"SUV\",\n",
    "            \"vehicle_type\":\"Truck\",\n",
    "            \"drivetrain\":\"4WD\",\n",
    "            \"transmission\":\"Automatic\",\n",
    "            \"fuel_type\":\"Premium Unleaded\",\n",
    "            \"engine_size\":\"3\",\n",
    "            \"engine_block\":\"V\",\n",
    "            \"seller_name\":\"kelowna mercedes-benz\",\n",
    "            \"street\":\"2580 Enterprise Way\",\n",
    "            \"city\":\"Kelowna\",\n",
    "            \"state\":\"BC\",\n",
    "            \"zip\":\"V1X 7X5\"\n",
    "\n",
    "            #Should be around 79995\n",
    "        }\n",
    "    ]\n",
    "}\n",
    "# Convert to JSON string\n",
    "input_data = json.dumps(data)\n",
    "\n",
    "# Set the content type\n",
    "headers = {'Content-Type': 'application/json'}\n",
    "# If authentication is enabled, set the authorization header\n",
    "headers['Authorization'] = f'Bearer {key}'\n",
    "\n",
    "# Make the request and display the response\n",
    "resp = requests.post(scoring_uri, input_data, headers=headers)\n",
    "print(resp.text)"
   ]
  },
  {
   "cell_type": "markdown",
   "metadata": {
    "collapsed": true,
    "gather": {
     "logged": 1598432765711
    },
    "jupyter": {
     "outputs_hidden": false,
     "source_hidden": false
    },
    "nteract": {
     "transient": {
      "deleting": false
     }
    }
   },
   "source": [
    "TODO: In the cell below, print the logs of the web service and delete the service"
   ]
  },
  {
   "cell_type": "code",
   "execution_count": null,
   "metadata": {
    "jupyter": {
     "outputs_hidden": false,
     "source_hidden": false
    },
    "nteract": {
     "transient": {
      "deleting": false
     }
    }
   },
   "outputs": [],
   "source": [
    "# https://docs.microsoft.com/en-us/azure/machine-learning/how-to-log-view-metrics\n",
    "\n",
    "print(service.get_logs())\n",
    "\n",
    "service.delete()"
   ]
  },
  {
   "cell_type": "code",
   "execution_count": null,
   "metadata": {
    "jupyter": {
     "outputs_hidden": false,
     "source_hidden": false
    },
    "nteract": {
     "transient": {
      "deleting": false
     }
    }
   },
   "outputs": [],
   "source": [
    "print('x')"
   ]
  }
 ],
 "metadata": {
  "kernel_info": {
   "name": "python3"
  },
  "kernelspec": {
   "display_name": "Python 3",
   "language": "python",
   "name": "python3"
  },
  "language_info": {
   "codemirror_mode": {
    "name": "ipython",
    "version": 3
   },
   "file_extension": ".py",
   "mimetype": "text/x-python",
   "name": "python",
   "nbconvert_exporter": "python",
   "pygments_lexer": "ipython3",
   "version": "3.8.10"
  },
  "microsoft": {
   "host": {
    "AzureML": {
     "notebookHasBeenCompleted": true
    }
   }
  },
  "nteract": {
   "version": "nteract-front-end@1.0.0"
  }
 },
 "nbformat": 4,
 "nbformat_minor": 2
}
