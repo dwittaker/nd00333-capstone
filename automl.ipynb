{
 "cells": [
  {
   "cell_type": "markdown",
   "metadata": {},
   "source": [
    "# Automated ML\n",
    "\n",
    "TODO: Import Dependencies. In the cell below, import all the dependencies that you will need to complete the project."
   ]
  },
  {
   "cell_type": "code",
   "execution_count": null,
   "metadata": {
    "gather": {
     "logged": 1598423888013
    },
    "jupyter": {
     "outputs_hidden": false,
     "source_hidden": false
    },
    "nteract": {
     "transient": {
      "deleting": false
     }
    }
   },
   "outputs": [],
   "source": [
    "import logging\n",
    "import os\n",
    "import csv\n",
    "\n",
    "from matplotlib import pyplot as plt\n",
    "import numpy as np\n",
    "import pandas as pd\n",
    "from sklearn import datasets\n",
    "import pkg_resources\n",
    "\n",
    "import azureml.core\n",
    "from azureml.core.experiment import Experiment\n",
    "from azureml.core.workspace import Workspace\n",
    "from azureml.train.automl import AutoMLConfig\n",
    "from azureml.core.dataset import Dataset\n",
    "\n",
    "from azureml.pipeline.steps import AutoMLStep\n",
    "\n",
    "# Check core SDK version number\n",
    "print(\"SDK version:\", azureml.core.VERSION)\n",
    "\n",
    "from azureml.core.compute import AmlCompute\n",
    "from azureml.core.compute import ComputeTarget\n",
    "from azureml.core.compute_target import ComputeTargetException"
   ]
  },
  {
   "cell_type": "markdown",
   "metadata": {},
   "source": [
    "## Dataset\n",
    "\n",
    "### Overview\n",
    "TODO: In this markdown cell, give an overview of the dataset you are using. Also mention the task you will be performing.\n",
    "\n",
    "\n",
    "TODO: Get data. In the cell below, write code to access the data you will be using in this project. Remember that the dataset needs to be external."
   ]
  },
  {
   "cell_type": "code",
   "execution_count": null,
   "metadata": {
    "gather": {
     "logged": 1598423890461
    },
    "jupyter": {
     "outputs_hidden": false,
     "source_hidden": false
    },
    "nteract": {
     "transient": {
      "deleting": false
     }
    }
   },
   "outputs": [],
   "source": [
    "!pip install opendatasets\n",
    "import opendatasets as od\n",
    "import time\n",
    "import shutil\n",
    "\n",
    "def download_data(url, dsname, downloadpath, file):\n",
    "    if not os.path.exists(downloadpath):\n",
    "        os.makedirs(downloadpath)\n",
    "\n",
    "    od.download(url)\n",
    "    data_downloadpath = os.path.join(dsname, file)\n",
    "    data_finalpath = os.path.join(downloadpath, file)\n",
    "    \n",
    "    os.rename(data_downloadpath, data_finalpath)\n",
    "    while not os.path.exists(data_finalpath):\n",
    "        sleep(1)\n",
    "    shutil.rmtree(f\"./{dsname}\")\n",
    "    \n",
    "    return data_finalpath\n",
    "\n",
    "# ws = Workspace.from_config()\n",
    "zipurl = 'https://www.kaggle.com/rupeshraundal/marketcheck-automotive-data-us-canada/download'\n",
    "kaggledsname = 'marketcheck-automotive-data-us-canada'\n",
    "filenm = 'ca-dealers-used.csv'\n",
    "downloadpath = 'Data'\n",
    "dskey = 'UsedCarPrices'\n",
    "dsdesc = 'Used Car Price Training Data'\n",
    "found = False\n",
    "\n",
    "\n",
    "if dskey in ws.datasets.keys(): \n",
    "    print(f\"Retrieving registered dataset with key {dskey}\")\n",
    "    found = True\n",
    "    dataset = ws.datasets[dskey] \n",
    "\n",
    "if not found:\n",
    "    print(\"Downloading Canadian used car prices dataset from Kaggle\")\n",
    "    datapath = download_data(zipurl, downloadpath, filenm)\n",
    "\n",
    "    # get the datastore to upload prepared data\n",
    "    datastore = ws.get_default_datastore()\n",
    "    filepath = os.path.join(downloadpath, filenm)\n",
    "    # upload the local file from src_dir to the target_path in datastore\n",
    "    datastore.upload(src_dir=datapath, target_path=filepath)\n",
    "    dataset = Dataset.Tabular.from_delimited_files(path=[(datastore, (os.join(filepath, filenm)))], separator=',', header=True, encoding='utf8')\n",
    "    print(\"Registering dataset\")\n",
    "    dataset = dataset.register(workspace=workspace,\n",
    "                                 name=dskey,\n",
    "                                 description=dsdesc)\n",
    "    # dataset = Dataset.Tabular.from_delimited_files(os.join(datapath, filenm), separator=',', header=True, encoding='utf8')\n",
    "    # https://docs.microsoft.com/en-us/python/api/azureml-core/azureml.data.tabulardataset?view=azure-ml-py\n",
    "    # https://docs.microsoft.com/en-us/azure/machine-learning/how-to-create-register-datasets#explore-data\n",
    "    # https://docs.microsoft.com/en-us/azure/machine-learning/how-to-train-with-datasets\n",
    "    \n",
    "#########################################################\n",
    "\n",
    "print(\"Configuring compute cluster\")\n",
    "experiment_name = 'PCAP_Exp_CarPrices_AutoML'\n",
    "experiment=Experiment(ws, experiment_name)\n",
    "\n",
    "\n",
    "amlcompute_cluster_name = \"PCAP-Clus-DS12v2\"\n",
    "try:\n",
    "    compute_target = ComputeTarget(workspace=ws, name=amlcompute_cluster_name)\n",
    "    print('Found existing cluster, use it.')\n",
    "except ComputeTargetException:\n",
    "    compute_config = AmlCompute.provisioning_configuration(vm_size='STANDARD_DS12_V2',# for GPU, use \"STANDARD_NC6\"\n",
    "                                                           #vm_priority = 'lowpriority', # optional\n",
    "                                                           max_nodes=6)\n",
    "    compute_target = ComputeTarget.create(ws, amlcompute_cluster_name, compute_config)\n",
    "\n",
    "compute_target.wait_for_completion(show_output=True, min_node_count = 1, timeout_in_minutes = 2)\n"
   ]
  },
  {
   "cell_type": "markdown",
   "metadata": {},
   "source": [
    "## AutoML Configuration\n",
    "\n",
    "TODO: Explain why you chose the automl settings and cofiguration you used below."
   ]
  },
  {
   "cell_type": "code",
   "execution_count": null,
   "metadata": {
    "gather": {
     "logged": 1598429217746
    },
    "jupyter": {
     "outputs_hidden": false,
     "source_hidden": false
    },
    "nteract": {
     "transient": {
      "deleting": false
     }
    }
   },
   "outputs": [],
   "source": [
    "# https://docs.microsoft.com/en-us/azure/machine-learning/how-to-use-automlstep-in-pipelines\n",
    "# TODO: Put your automl settings here\n",
    "automl_settings = {\n",
    "    \"experiment_timeout_minutes\": 60,\n",
    "    \"max_concurrent_iterations\": 5,\n",
    "    \"primary_metric\" : 'r2_score',\n",
    "    \"verbosity\": logging.INFO,\n",
    "    \"n_cross_validations\": 5\n",
    "}\n",
    "# https://docs.microsoft.com/en-us/azure/machine-learning/how-to-configure-auto-train\n",
    "# Metrics like r2_score and spearman_correlation can better represent the quality of model when the scale of the value-to-predict covers many orders of magnitude. \n",
    "# https://docs.microsoft.com/en-us/azure/machine-learning/how-to-configure-auto-train\n",
    "# TODO: Put your automl config here\n",
    "automl_config = AutoMLConfig(\n",
    "    compute_target=compute_target,\n",
    "    task = \"regression\",\n",
    "    training_data=dataset,\n",
    "    label_column_name=\"price\",  \n",
    "    path = project_folder,\n",
    "    enable_early_stopping= True,\n",
    "    featurization= 'auto',\n",
    "    debug_log = \"automl_errors.log\",\n",
    "    model_explainability=True,\n",
    "    **automl_settings\n",
    ")"
   ]
  },
  {
   "cell_type": "code",
   "execution_count": null,
   "metadata": {
    "gather": {
     "logged": 1598431107951
    },
    "jupyter": {
     "outputs_hidden": false,
     "source_hidden": false
    },
    "nteract": {
     "transient": {
      "deleting": false
     }
    }
   },
   "outputs": [],
   "source": [
    "\n",
    "\n",
    "# TODO: Submit your experiment\n",
    "remote_run = experiment.submit(automl_config, show_output=True)\n",
    "\n",
    "# remote_run.wait_for_completion()"
   ]
  },
  {
   "cell_type": "markdown",
   "metadata": {},
   "source": [
    "## Run Details\n",
    "\n",
    "OPTIONAL: Write about the different models trained and their performance. Why do you think some models did better than others?\n",
    "\n",
    "TODO: In the cell below, use the `RunDetails` widget to show the different experiments."
   ]
  },
  {
   "cell_type": "code",
   "execution_count": null,
   "metadata": {
    "gather": {
     "logged": 1598431121770
    },
    "jupyter": {
     "outputs_hidden": false,
     "source_hidden": false
    },
    "nteract": {
     "transient": {
      "deleting": false
     }
    }
   },
   "outputs": [],
   "source": [
    "from azureml.widgets import RunDetails\n",
    "RunDetails(remote_run).show()\n",
    "\n",
    "remote_run.wait_for_completion()"
   ]
  },
  {
   "cell_type": "markdown",
   "metadata": {},
   "source": [
    "## Best Model\n",
    "\n",
    "TODO: In the cell below, get the best model from the automl experiments and display all the properties of the model.\n",
    "\n"
   ]
  },
  {
   "cell_type": "code",
   "execution_count": null,
   "metadata": {
    "gather": {
     "logged": 1598431425670
    },
    "jupyter": {
     "outputs_hidden": false,
     "source_hidden": false
    },
    "nteract": {
     "transient": {
      "deleting": false
     }
    }
   },
   "outputs": [],
   "source": [
    "# https://github.com/Azure/MachineLearningNotebooks/blob/master/how-to-use-azureml/automated-machine-learning/forecasting-energy-demand/auto-ml-forecasting-energy-demand.ipynb\n",
    "#todo CONSIDER THIS ALTERNATE OF RUNNING AUTOML WITHOUT A PIPELINE.\n",
    "\n",
    "best_run, fitted_model = remote_run.get_output()\n",
    "print(\"Details of best run\")\n",
    "print(best_run)\n",
    "print(\"Details of fitted model\")\n",
    "print(fitted_model) #.steps\n",
    "\n",
    "from pprint import pprint\n",
    "\n",
    "def print_model(model, prefix=\"\"):\n",
    "    for step in model.steps:\n",
    "        print(prefix + step[0])\n",
    "        if hasattr(step[1], 'estimators') and hasattr(step[1], 'weights'):\n",
    "            pprint({'estimators': list(e[0] for e in step[1].estimators), 'weights': step[1].weights})\n",
    "            print()\n",
    "            for estimator in step[1].estimators:\n",
    "                print_model(estimator[1], estimator[0]+ ' - ')\n",
    "        elif hasattr(step[1], '_base_learners') and hasattr(step[1], '_meta_learner'):\n",
    "            print(\"\\nMeta Learner\")\n",
    "            pprint(step[1]._meta_learner)\n",
    "            print()\n",
    "            for estimator in step[1]._base_learners:\n",
    "                print_model(estimator[1], estimator[0]+ ' - ')\n",
    "        else:\n",
    "            pprint(step[1].get_params())\n",
    "            print()   \n",
    "print(\"Details of fitted model\")\n",
    "print_model(fitted_model)\n",
    "\n",
    "# https://docs.microsoft.com/en-us/azure/machine-learning/how-to-configure-auto-train\n",
    "# best_run, fitted_model = automl_run.get_output()\n",
    "# print(best_run)\n",
    "# print(fitted_model)\n",
    "# https://github.com/Azure/MachineLearningNotebooks/blob/master/how-to-use-azureml/machine-learning-pipelines/nyc-taxi-data-regression-model-building/nyc-taxi-data-regression-model-building.ipynb\n",
    "# https://docs.microsoft.com/en-us/azure/machine-learning/tutorial-auto-train-models\n",
    "\n",
    "# https://github.com/Azure/MachineLearningNotebooks/blob/master/how-to-use-azureml/explain-model/azure-integration/remote-explanation/explain-model-on-amlcompute.ipynb\n",
    "from azureml.interpret import ExplanationClient\n",
    "\n",
    "client = ExplanationClient.from_run(best_run)\n",
    "raw_explanations = client.download_model_explanation(raw=True)\n",
    "print(\"Explanations of raw feature importance\")\n",
    "print(raw_explanations.get_feature_importance_dict())"
   ]
  },
  {
   "cell_type": "code",
   "execution_count": null,
   "metadata": {
    "gather": {
     "logged": 1598431426111
    },
    "jupyter": {
     "outputs_hidden": false,
     "source_hidden": false
    },
    "nteract": {
     "transient": {
      "deleting": false
     }
    }
   },
   "outputs": [],
   "source": [
    "#TODO: Save the best model\n",
    "# best_model_output = pipeline_run.get_pipeline_output(best_model_output_name)\n",
    "# num_file_downloaded = best_model_output.download('.', show_progress=True)\n",
    "\n",
    "# import pickle\n",
    "\n",
    "# with open(best_model_output._path_on_datastore, \"rb\" ) as f:\n",
    "#     best_model = pickle.load(f)\n",
    "# print(best_model)\n",
    "\n",
    "# print(best_model.steps)\n",
    "\n",
    "bestAutoname = best_run.properties['model_name']\n",
    "bestAutofolder=\"model\"\n",
    "bestAutofile = 'BestAutoMlModel'\n",
    "downloadtarget = f'./{bestAutofolder}/{bestAutofile}'\n",
    "print(f\"Saving best model with name: {bestAutoname} to: {downloadtarget}\")\n",
    "#model = best_run_auto.register_model(model_name=model_name, description = description, tags = tags)\n",
    "model.download(target_dir=downloadtarget, exist_ok = True, show_progress=True)\n"
   ]
  },
  {
   "cell_type": "markdown",
   "metadata": {},
   "source": [
    "## Model Deployment\n",
    "\n",
    "Remember you have to deploy only one of the two models you trained.. Perform the steps in the rest of this notebook only if you wish to deploy this model.\n",
    "\n",
    "TODO: In the cell below, register the model, create an inference config and deploy the model as a web service."
   ]
  },
  {
   "cell_type": "code",
   "execution_count": null,
   "metadata": {
    "gather": {
     "logged": 1598431435189
    },
    "jupyter": {
     "outputs_hidden": false,
     "source_hidden": false
    },
    "nteract": {
     "transient": {
      "deleting": false
     }
    }
   },
   "outputs": [],
   "source": [
    "myenv_inference = Environment(workspace=ws, name=\"AzureML-sklearn-0.24.1-ubuntu18.04-py37-cpu-inference\") \n",
    "\n",
    "model = best_run.register_model(model_name=bestAutoname, description ='AutoML-AutoPrices')\n",
    "\n",
    "print(f\"Model ID - {best_run.model_id}\")\n",
    "\n",
    "#TODO Setup yml file for inference  env\n",
    "\n",
    "# Combine scoring script & environment in Inference configuration\n",
    "# dummy_inference_config = InferenceConfig(entry_script=\"score.py\", environment=myenv_inference)\n",
    "\n",
    "# Set deployment configuration\n",
    "deployment_config = AciWebservice.deploy_configuration(cpu_cores = 1, memory_gb = 1, auth_enabled=True)\n",
    "\n",
    "wsvc_name = \"SVC_AutoPrices\"\n",
    "service = Model.deploy(\n",
    "    ws,\n",
    "    wsvc_name,\n",
    "    [model],\n",
    "#     inference_config = dummy_inference_config,\n",
    "    deployment_config = deployment_config,\n",
    "    overwrite=True,\n",
    ")\n",
    "service.wait_for_deployment(show_output=True)\n",
    "print(service.state)\n",
    "print(service.scoring_uri)\n",
    "print(service.swagger_uri)\n",
    "primary, secondary = service.get_keys()\n",
    "print(primary)\n",
    "#Enable app insights\n",
    "service.update(enable_app_insights=True)"
   ]
  },
  {
   "cell_type": "markdown",
   "metadata": {
    "collapsed": true,
    "gather": {
     "logged": 1598431657736
    },
    "jupyter": {
     "outputs_hidden": false,
     "source_hidden": false
    },
    "nteract": {
     "transient": {
      "deleting": false
     }
    }
   },
   "source": [
    "TODO: In the cell below, send a request to the web service you deployed to test it."
   ]
  },
  {
   "cell_type": "code",
   "execution_count": null,
   "metadata": {
    "gather": {
     "logged": 1598432707604
    },
    "jupyter": {
     "outputs_hidden": false,
     "source_hidden": false
    },
    "nteract": {
     "transient": {
      "deleting": false
     }
    }
   },
   "outputs": [],
   "source": [
    "# TODO Download swagger.json and run on local docker image to review inputs.\n",
    "# TODO Screenshot the input dict, outputs etc\n",
    "service = Webservice(workspace=ws, name=wsvc_name)\n",
    "\n",
    "\n",
    "import requests\n",
    "# URL for the web service\n",
    "scoring_uri = service.scoring_uri\n",
    "# If the service is authenticated, set the key or token\n",
    "key = primary\n",
    "\n",
    "# Two sets of data to score, so we get two results back\n",
    "\n",
    "#Generally, I figure we would send in all the columns from the original dataset and \n",
    "#then run it through the clean function to whittle it down, but that's not necessary for this exercise.\n",
    "data = {\n",
    "    \"data\":\n",
    "    [\n",
    "        {\n",
    "            \"id\":\"2fc65749-0cff\",\n",
    "            \"vin\":\"1FTEW1E50JFB75149\",\n",
    "            \"miles\":\"51611\",\n",
    "            \"stock_no\":\"2021128A\",\n",
    "            \"year\":\"2018\",\n",
    "            \"make\":\"Ford\",\n",
    "            \"model\":\"F-150\",\n",
    "            \"trim\":\"XLT\",\n",
    "            \"body_type\":\"Pickup\",\n",
    "            \"vehicle_type\":\"Truck\",\n",
    "            \"drivetrain\":\"4WD\",\n",
    "            \"transmission\":\"Automatic\",\n",
    "            \"fuel_type\":\"Unleaded / Unleaded\",\n",
    "            \"engine_size\":\"5\",\n",
    "            \"engine_block\":\"V\",\n",
    "            \"seller_name\":\"holiday ford lincoln ltd\",\n",
    "            \"street\":\"1555 Lansdowne Street, Peterborough\",\n",
    "            \"city\":\"Peterborough\",\n",
    "            \"state\":\"ON\",\n",
    "            \"zip\":\"K9J 7M3\"\n",
    "\n",
    "            #Should be around 44699\n",
    "        }\n",
    "    ,\n",
    "        {\n",
    "            \"id\":\"cd8fc59c-4ff5\",\n",
    "            \"vin\":\"2T1BE40E39C017603\",\n",
    "            \"miles\":\"335361\",\n",
    "            \"stock_no\":\"1385\",\n",
    "            \"year\":\"2009\",\n",
    "            \"make\":\"Toyota\",\n",
    "            \"model\":\"Corolla\",\n",
    "            \"trim\":\"XRS\",\n",
    "            \"body_type\":\"Sedan\",\n",
    "            \"vehicle_type\":\"Car\",\n",
    "            \"drivetrain\":\"FWD\",\n",
    "            \"transmission\":\"Manual\",\n",
    "            \"fuel_type\":\"Unleaded\",\n",
    "            \"engine_size\":\"2.4\",\n",
    "            \"engine_block\":\"I\",\n",
    "            \"seller_name\":\"fara auto sales\",\n",
    "            \"street\":\"1545 Warden Ave\",\n",
    "            \"city\":\"Scarborough\",\n",
    "            \"state\":\"ON\",\n",
    "            \"zip\":\"M1R 2S9\"\n",
    "\n",
    "            #Should be around 3550\n",
    "        }\n",
    "    ,\n",
    "        {\n",
    "            \"id\":\"77521bd9-e533\",\n",
    "            \"vin\":\"W1N0G6EB4LV247708\",\n",
    "            \"miles\":\"8852\",\n",
    "            \"stock_no\":\"M21144A\",\n",
    "            \"year\":\"2020\",\n",
    "            \"make\":\"Mercedes-Benz\",\n",
    "            \"model\":\"GLC-Class\",\n",
    "            \"trim\":\"AMG GLC43\",\n",
    "            \"body_type\":\"SUV\",\n",
    "            \"vehicle_type\":\"Truck\",\n",
    "            \"drivetrain\":\"4WD\",\n",
    "            \"transmission\":\"Automatic\",\n",
    "            \"fuel_type\":\"Premium Unleaded\",\n",
    "            \"engine_size\":\"3\",\n",
    "            \"engine_block\":\"V\",\n",
    "            \"seller_name\":\"kelowna mercedes-benz\",\n",
    "            \"street\":\"2580 Enterprise Way\",\n",
    "            \"city\":\"Kelowna\",\n",
    "            \"state\":\"BC\",\n",
    "            \"zip\":\"V1X 7X5\"\n",
    "\n",
    "            #Should be around 79995\n",
    "        }\n",
    "    ]\n",
    "}\n",
    "# Convert to JSON string\n",
    "input_data = json.dumps(data)\n",
    "\n",
    "# Set the content type\n",
    "headers = {'Content-Type': 'application/json'}\n",
    "# If authentication is enabled, set the authorization header\n",
    "headers['Authorization'] = f'Bearer {key}'\n",
    "\n",
    "# Make the request and display the response\n",
    "resp = requests.post(scoring_uri, input_data, headers=headers)\n",
    "print(resp.text)"
   ]
  },
  {
   "cell_type": "markdown",
   "metadata": {
    "collapsed": true,
    "gather": {
     "logged": 1598432765711
    },
    "jupyter": {
     "outputs_hidden": false,
     "source_hidden": false
    },
    "nteract": {
     "transient": {
      "deleting": false
     }
    }
   },
   "source": [
    "TODO: In the cell below, print the logs of the web service and delete the service"
   ]
  },
  {
   "cell_type": "code",
   "execution_count": null,
   "metadata": {
    "jupyter": {
     "outputs_hidden": false,
     "source_hidden": false
    },
    "nteract": {
     "transient": {
      "deleting": false
     }
    }
   },
   "outputs": [],
   "source": [
    "# https://docs.microsoft.com/en-us/azure/machine-learning/how-to-log-view-metrics\n",
    "\n",
    "print(service.get_logs())\n",
    "\n",
    "service.delete()"
   ]
  }
 ],
 "metadata": {
  "kernel_info": {
   "name": "python3-azureml"
  },
  "kernelspec": {
   "display_name": "Python 3",
   "language": "python",
   "name": "python3"
  },
  "language_info": {
   "codemirror_mode": {
    "name": "ipython",
    "version": 3
   },
   "file_extension": ".py",
   "mimetype": "text/x-python",
   "name": "python",
   "nbconvert_exporter": "python",
   "pygments_lexer": "ipython3",
   "version": "3.8.10"
  },
  "nteract": {
   "version": "nteract-front-end@1.0.0"
  }
 },
 "nbformat": 4,
 "nbformat_minor": 2
}
