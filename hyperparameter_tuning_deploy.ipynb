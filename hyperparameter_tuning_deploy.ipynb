{
 "cells": [
  {
   "cell_type": "code",
   "execution_count": 1,
   "metadata": {
    "gather": {
     "logged": 1633502645643
    },
    "jupyter": {
     "outputs_hidden": false,
     "source_hidden": false
    },
    "nteract": {
     "transient": {
      "deleting": false
     }
    }
   },
   "outputs": [],
   "source": [
    "from azureml.core.workspace import Workspace\n",
    "\n",
    "from azureml.core.environment import Environment\n",
    "from azureml.core.model import InferenceConfig, Model\n",
    "from azureml.core.webservice import AciWebservice, Webservice\n",
    "from azureml.core.conda_dependencies import CondaDependencies\n",
    "\n",
    "\n",
    "ws = Workspace.from_config()\n",
    "model = Model(ws, name=\"RFHD-AutoPrices\", version=1)"
   ]
  },
  {
   "cell_type": "code",
   "execution_count": 9,
   "metadata": {
    "gather": {
     "logged": 1633500590360
    },
    "jupyter": {
     "outputs_hidden": false,
     "source_hidden": false
    },
    "nteract": {
     "transient": {
      "deleting": false
     }
    }
   },
   "outputs": [
    {
     "name": "stderr",
     "output_type": "stream",
     "text": [
      "No Python version provided, defaulting to \"3.6.2\"\n"
     ]
    }
   ],
   "source": [
    "\n",
    "\n",
    "\n",
    "# https://stackoverflow.com/questions/61803031/azure-ml-include-additional-files-during-model-deployment\n",
    "# Disabled since the rubric implies a specification 'file' is required, suggesting a custom yaml file\n",
    "# myenv_inference = Environment(workspace=ws, name=\"AzureML-sklearn-0.24.1-ubuntu18.04-py37-cpu-inference\") \n",
    "mysklearn_env = Environment.from_conda_specification(name='mysklearn-env', file_path='myenv_dependencies_hdrive.yml')\n",
    "# from azureml.core import Image\n",
    "# build = mysklearn_env.build(workspace=ws)\n",
    "# build.wait_for_completion(show_output=True)\n",
    "\n",
    "# Combine scoring script & environment in Inference configuration\n",
    "dummy_inference_config = InferenceConfig(entry_script=\"score_hdrive.py\", environment=mysklearn_env, source_directory='./')\n",
    "\n",
    "# Set deployment configuration\n",
    "deployment_config = AciWebservice.deploy_configuration(cpu_cores = 1, memory_gb = 3, auth_enabled=True)\n",
    "\n",
    "ws_name = \"svc-autoprices-hdrive-2\"\n",
    "service = Model.deploy(\n",
    "    ws,\n",
    "    ws_name,\n",
    "    [model],\n",
    "    inference_config = dummy_inference_config,\n",
    "    deployment_config = deployment_config,\n",
    "    overwrite=True\n",
    ")\n",
    "# service.wait_for_deployment(show_output=True)"
   ]
  },
  {
   "cell_type": "code",
   "execution_count": 3,
   "metadata": {
    "gather": {
     "logged": 1633502674276
    },
    "jupyter": {
     "outputs_hidden": false,
     "source_hidden": false
    },
    "nteract": {
     "transient": {
      "deleting": false
     }
    }
   },
   "outputs": [
    {
     "name": "stdout",
     "output_type": "stream",
     "text": [
      "{'svc-autoprices-hdrive-2': AciWebservice(workspace=Workspace.create(name='quick-starts-ws-160132', subscription_id='81cefad3-d2c9-4f77-a466-99a7f541c7bb', resource_group='aml-quickstarts-160132'), name=svc-autoprices-hdrive-2, image_id=None, compute_type=None, state=ACI, scoring_uri=None, tags=http://ea8e6155-0dc1-4bfe-91cd-12da646bcbef.southcentralus.azurecontainer.io/score, properties={}, created_by={'hasInferenceSchema': 'False', 'hasHttps': 'False'}), 'svc-autoprices-hdrive': AciWebservice(workspace=Workspace.create(name='quick-starts-ws-160132', subscription_id='81cefad3-d2c9-4f77-a466-99a7f541c7bb', resource_group='aml-quickstarts-160132'), name=svc-autoprices-hdrive, image_id=None, compute_type=None, state=ACI, scoring_uri=None, tags=http://82c9edab-de4e-4a8d-842c-21afd36ab1f9.southcentralus.azurecontainer.io/score, properties={}, created_by={'hasInferenceSchema': 'False', 'hasHttps': 'False'})}\n",
      "Healthy\n",
      "http://ea8e6155-0dc1-4bfe-91cd-12da646bcbef.southcentralus.azurecontainer.io/score\n",
      "http://ea8e6155-0dc1-4bfe-91cd-12da646bcbef.southcentralus.azurecontainer.io/swagger.json\n",
      "KnCuAeMIMbWZOw8a5JejzDg6OfqcekT7\n"
     ]
    }
   ],
   "source": [
    "from azureml.core.workspace import Workspace\n",
    "\n",
    "\n",
    "print(ws.webservices)\n",
    "\n",
    "# Choose the webservice you are interested in\n",
    "\n",
    "from azureml.core import Webservice\n",
    "\n",
    "service = Webservice(ws, 'svc-autoprices-hdrive-2')\n",
    "\n",
    "# service.wait_for_deployment(show_output=True)\n",
    "print(service.state)\n",
    "print(service.scoring_uri)\n",
    "print(service.swagger_uri)\n",
    "primary, secondary = service.get_keys()\n",
    "print(primary)\n",
    "#Enable app insights\n",
    "service.update(enable_app_insights=True)"
   ]
  },
  {
   "cell_type": "code",
   "execution_count": 22,
   "metadata": {
    "gather": {
     "logged": 1633501882555
    }
   },
   "outputs": [
    {
     "name": "stdout",
     "output_type": "stream",
     "text": [
      "2021-10-06T06:25:13,733143400+00:00 - rsyslog/run \n",
      "2021-10-06T06:25:13,740947300+00:00 - gunicorn/run \n",
      "Dynamic Python package installation is disabled.\n",
      "Starting HTTP server\n",
      "2021-10-06T06:25:13,749433200+00:00 - nginx/run \n",
      "2021-10-06T06:25:13,756637500+00:00 - iot-server/run \n",
      "EdgeHubConnectionString and IOTEDGE_IOTHUBHOSTNAME are not set. Exiting...\n",
      "2021-10-06T06:25:14,115951900+00:00 - iot-server/finish 1 0\n",
      "2021-10-06T06:25:14,119809900+00:00 - Exit code 1 is normal. Not restarting iot-server.\n",
      "Starting gunicorn 20.1.0\n",
      "Listening at: http://127.0.0.1:31311 (70)\n",
      "Using worker: sync\n",
      "worker timeout is set to 300\n",
      "Booting worker with pid: 100\n",
      "SPARK_HOME not set. Skipping PySpark Initialization.\n",
      "Initializing logger\n",
      "2021-10-06 06:25:17,763 | root | INFO | Starting up app insights client\n",
      "logging socket was found. logging is available.\n",
      "logging socket was found. logging is available.\n",
      "2021-10-06 06:25:17,765 | root | INFO | Starting up request id generator\n",
      "2021-10-06 06:25:17,765 | root | INFO | Starting up app insight hooks\n",
      "2021-10-06 06:25:17,765 | root | INFO | Invoking user's init function\n",
      "model path is azureml-models/RFHD-AutoPrices/1/RF-AutoPrices_hdrive_model.joblib\n",
      "no request id,/azureml-envs/azureml_b0ef5e09732ba3bf6fa26e29e8d1049c/lib/python3.6/site-packages/sklearn/base.py:315: UserWarning: Trying to unpickle estimator DecisionTreeRegressor from version 0.24.1 when using version 0.24.2. This might lead to breaking code or invalid results. Use at your own risk.\n",
      "  UserWarning)\n",
      "\n",
      "no request id,/azureml-envs/azureml_b0ef5e09732ba3bf6fa26e29e8d1049c/lib/python3.6/site-packages/sklearn/base.py:315: UserWarning: Trying to unpickle estimator RandomForestRegressor from version 0.24.1 when using version 0.24.2. This might lead to breaking code or invalid results. Use at your own risk.\n",
      "  UserWarning)\n",
      "\n",
      "/azureml-envs/azureml_b0ef5e09732ba3bf6fa26e29e8d1049c/lib/python3.6/site-packages/sklearn/base.py:315: UserWarning: Trying to unpickle estimator DecisionTreeRegressor from version 0.24.1 when using version 0.24.2. This might lead to breaking code or invalid results. Use at your own risk.\n",
      "  UserWarning)\n",
      "/azureml-envs/azureml_b0ef5e09732ba3bf6fa26e29e8d1049c/lib/python3.6/site-packages/sklearn/base.py:315: UserWarning: Trying to unpickle estimator RandomForestRegressor from version 0.24.1 when using version 0.24.2. This might lead to breaking code or invalid results. Use at your own risk.\n",
      "  UserWarning)\n",
      "2021-10-06 06:26:22,994 | root | INFO | Users's init has completed successfully\n",
      "2021-10-06 06:26:22,998 | root | INFO | Skipping middleware: dbg_model_info as it's not enabled.\n",
      "2021-10-06 06:26:22,998 | root | INFO | Skipping middleware: dbg_resource_usage as it's not enabled.\n",
      "2021-10-06 06:26:23,029 | root | INFO | Scoring timeout is found from os.environ: 60000 ms\n",
      "2021-10-06 06:26:23,044 | root | INFO | Swagger file not present\n",
      "2021-10-06 06:26:23,045 | root | INFO | 404\n",
      "127.0.0.1 - - [06/Oct/2021:06:26:23 +0000] \"GET /swagger.json HTTP/1.0\" 404 19 \"-\" \"Go-http-client/1.1\"\n",
      "2021-10-06 06:28:54,340 | root | INFO | Swagger file not present\n",
      "2021-10-06 06:28:54,340 | root | INFO | 404\n",
      "127.0.0.1 - - [06/Oct/2021:06:28:54 +0000] \"GET /swagger.json HTTP/1.0\" 404 19 \"-\" \"Go-http-client/1.1\"\n",
      "2021-10-06 06:29:44,365 | root | INFO | Swagger file not present\n",
      "2021-10-06 06:29:44,365 | root | INFO | 404\n",
      "127.0.0.1 - - [06/Oct/2021:06:29:44 +0000] \"GET /swagger.json HTTP/1.0\" 404 19 \"-\" \"Go-http-client/1.1\"\n",
      "2021-10-06 06:30:19,249 | root | INFO | Swagger file not present\n",
      "2021-10-06 06:30:19,249 | root | INFO | 404\n",
      "127.0.0.1 - - [06/Oct/2021:06:30:19 +0000] \"GET /swagger.json HTTP/1.0\" 404 19 \"-\" \"Go-http-client/1.1\"\n",
      "2021-10-06 06:30:20,400 | root | INFO | Swagger file not present\n",
      "2021-10-06 06:30:20,400 | root | INFO | 404\n",
      "127.0.0.1 - - [06/Oct/2021:06:30:20 +0000] \"GET /swagger.json HTTP/1.0\" 404 19 \"-\" \"Go-http-client/1.1\"\n",
      "\n"
     ]
    }
   ],
   "source": [
    "\n",
    "print(service.get_logs())"
   ]
  },
  {
   "cell_type": "code",
   "execution_count": 4,
   "metadata": {
    "gather": {
     "logged": 1633502680657
    },
    "jupyter": {
     "outputs_hidden": false,
     "source_hidden": false
    },
    "nteract": {
     "transient": {
      "deleting": false
     }
    }
   },
   "outputs": [
    {
     "name": "stdout",
     "output_type": "stream",
     "text": [
      "[101326.01333333332, 102209.46]\n"
     ]
    }
   ],
   "source": [
    "import json\n",
    "import requests\n",
    "# service = Webservice(workspace=ws, name='svc-autoprices-hdrive')\n",
    "\n",
    "\n",
    "\n",
    "# URL for the web service\n",
    "scoring_uri = service.scoring_uri\n",
    "# If the service is authenticated, set the key or token\n",
    "key = primary\n",
    "\n",
    "\n",
    "data = {\n",
    "    \"data\":\n",
    "    [\n",
    "        {\n",
    "            'miles': \"51000\",\n",
    "            'year': \"2020\",\n",
    "            'make': \"Ford\",\n",
    "            'model': \"F-150\",\n",
    "            'engine_size': \"5\",\n",
    "            'body_type': \"Pickup\",\n",
    "            'vehicle_type': \"Truck\",\n",
    "            'drivetrain': \"4WD\",\n",
    "            'transmission': \"Automatic\",\n",
    "            'fuel_type': \"Gas\",\n",
    "            'state': \"ON\"\n",
    "            \n",
    "        }\n",
    "    ,\n",
    "        {\n",
    "            'miles': \"58900\",\n",
    "            'year': \"2018\",\n",
    "            'make': \"Toyota\",\n",
    "            'model': \"Corolla\",\n",
    "            'engine_size': \"1.8\",\n",
    "            'body_type': \"Sedan\",\n",
    "            'vehicle_type': \"Car\",\n",
    "            'drivetrain': \"FWD\",\n",
    "            'transmission': \"Automatic\",\n",
    "            'fuel_type': \"Gas\",\n",
    "            'state': \"AB\"\n",
    "            \n",
    "        }\n",
    "\n",
    "    ]\n",
    "}\n",
    "# Convert to JSON string\n",
    "input_data = json.dumps(data)\n",
    "\n",
    "# Set the content type\n",
    "headers = {'Content-Type': 'application/json'}\n",
    "# If authentication is enabled, set the authorization header\n",
    "headers['Authorization'] = f'Bearer {key}'\n",
    "\n",
    "# Make the request and display the response\n",
    "resp = requests.post(scoring_uri, input_data, headers=headers)\n",
    "print(resp.text)"
   ]
  }
 ],
 "metadata": {
  "kernel_info": {
   "name": "python3-azureml"
  },
  "kernelspec": {
   "display_name": "Python 3",
   "language": "python",
   "name": "python3"
  },
  "language_info": {
   "codemirror_mode": {
    "name": "ipython",
    "version": 3
   },
   "file_extension": ".py",
   "mimetype": "text/x-python",
   "name": "python",
   "nbconvert_exporter": "python",
   "pygments_lexer": "ipython3",
   "version": "3.8.10"
  },
  "microsoft": {
   "host": {
    "AzureML": {
     "notebookHasBeenCompleted": true
    }
   }
  },
  "nteract": {
   "version": "nteract-front-end@1.0.0"
  }
 },
 "nbformat": 4,
 "nbformat_minor": 2
}
